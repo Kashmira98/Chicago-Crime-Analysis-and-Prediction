{
  "nbformat": 4,
  "nbformat_minor": 0,
  "metadata": {
    "colab": {
      "name": "Copy of Listings part 1.ipynb",
      "provenance": [],
      "collapsed_sections": [],
      "authorship_tag": "ABX9TyPvNTpqsyrdb4kWtJCkjFZ3",
      "include_colab_link": true
    },
    "kernelspec": {
      "name": "python3",
      "display_name": "Python 3"
    },
    "language_info": {
      "name": "python"
    }
  },
  "cells": [
    {
      "cell_type": "markdown",
      "metadata": {
        "id": "view-in-github",
        "colab_type": "text"
      },
      "source": [
        "<a href=\"https://colab.research.google.com/github/Kashmira98/DADM-Assignment/blob/main/Copy_of_Listings_part_1.ipynb\" target=\"_parent\"><img src=\"https://colab.research.google.com/assets/colab-badge.svg\" alt=\"Open In Colab\"/></a>"
      ]
    },
    {
      "cell_type": "code",
      "execution_count": null,
      "metadata": {
        "colab": {
          "base_uri": "https://localhost:8080/"
        },
        "id": "sILesdluU03k",
        "outputId": "6489f60b-c4d2-449d-f188-95623cfe1631"
      },
      "outputs": [
        {
          "output_type": "stream",
          "name": "stdout",
          "text": [
            "Drive already mounted at /gdrive; to attempt to forcibly remount, call drive.mount(\"/gdrive\", force_remount=True).\n",
            "/gdrive\n"
          ]
        }
      ],
      "source": [
        "from google.colab import drive\n",
        "drive.mount('/gdrive')\n",
        "%cd /gdrive"
      ]
    },
    {
      "cell_type": "code",
      "source": [
        "import pandas as pd\n",
        "import numpy as np"
      ],
      "metadata": {
        "id": "6jPLBcRnU6wK"
      },
      "execution_count": null,
      "outputs": []
    },
    {
      "cell_type": "code",
      "source": [
        "nyc_listings= pd.read_csv('/gdrive/MyDrive/Practicum/Datasets/Newyork-2021/nyc_listings.csv')\n",
        "lon_listings= pd.read_csv('/gdrive/MyDrive/Practicum/Datasets/London-2021/lon_listings.csv')\n",
        "sy_listings= pd.read_csv('/gdrive/MyDrive/Practicum/Datasets/Sydney-2021/sy_listings.csv')"
      ],
      "metadata": {
        "colab": {
          "base_uri": "https://localhost:8080/"
        },
        "id": "16-9VWj4U65Z",
        "outputId": "d0727e63-c050-4a90-92dd-f8d542dcad17"
      },
      "execution_count": null,
      "outputs": [
        {
          "output_type": "stream",
          "name": "stderr",
          "text": [
            "/usr/local/lib/python3.7/dist-packages/IPython/core/interactiveshell.py:2882: DtypeWarning: Columns (67) have mixed types.Specify dtype option on import or set low_memory=False.\n",
            "  exec(code_obj, self.user_global_ns, self.user_ns)\n"
          ]
        }
      ]
    },
    {
      "cell_type": "code",
      "source": [
        "nyc_listings.shape, lon_listings.shape, sy_listings.shape"
      ],
      "metadata": {
        "colab": {
          "base_uri": "https://localhost:8080/"
        },
        "id": "FBj6Ib9vU69v",
        "outputId": "16503991-6d3b-4b00-97b6-827da43dfc00"
      },
      "execution_count": null,
      "outputs": [
        {
          "output_type": "execute_result",
          "data": {
            "text/plain": [
              "((38277, 74), (66641, 74), (20880, 74))"
            ]
          },
          "metadata": {},
          "execution_count": 5
        }
      ]
    },
    {
      "cell_type": "code",
      "source": [
        "# adding column cities using insert() method\n",
        "nyc_listings.insert(loc=7, column='Cities', value='New York', allow_duplicates=True)\n",
        "lon_listings.insert(loc=7, column='Cities', value='London', allow_duplicates=True)\n",
        "sy_listings.insert(loc=7, column='Cities', value='Sydney', allow_duplicates=True)"
      ],
      "metadata": {
        "id": "ou-rpiCdU7Cc"
      },
      "execution_count": null,
      "outputs": []
    },
    {
      "cell_type": "code",
      "source": [
        "listings = pd.concat([nyc_listings, lon_listings, sy_listings])\n",
        "listings.shape"
      ],
      "metadata": {
        "colab": {
          "base_uri": "https://localhost:8080/"
        },
        "id": "3ZQ8izeBU7GY",
        "outputId": "a10532e8-bff8-467d-c900-18144b95322a"
      },
      "execution_count": null,
      "outputs": [
        {
          "output_type": "execute_result",
          "data": {
            "text/plain": [
              "(125798, 75)"
            ]
          },
          "metadata": {},
          "execution_count": 7
        }
      ]
    },
    {
      "cell_type": "markdown",
      "source": [
        "#Data Understanding"
      ],
      "metadata": {
        "id": "DZ4ihHmTVfP1"
      }
    },
    {
      "cell_type": "code",
      "source": [
        "listings.info()"
      ],
      "metadata": {
        "colab": {
          "base_uri": "https://localhost:8080/"
        },
        "id": "KJPtSa8LU7KM",
        "outputId": "aba08743-40b1-4720-ef86-c13d92823613"
      },
      "execution_count": null,
      "outputs": [
        {
          "output_type": "stream",
          "name": "stdout",
          "text": [
            "<class 'pandas.core.frame.DataFrame'>\n",
            "Int64Index: 125798 entries, 0 to 20879\n",
            "Data columns (total 75 columns):\n",
            " #   Column                                        Non-Null Count   Dtype  \n",
            "---  ------                                        --------------   -----  \n",
            " 0   id                                            125798 non-null  int64  \n",
            " 1   listing_url                                   125798 non-null  object \n",
            " 2   scrape_id                                     125798 non-null  int64  \n",
            " 3   last_scraped                                  125798 non-null  object \n",
            " 4   name                                          125754 non-null  object \n",
            " 5   description                                   121508 non-null  object \n",
            " 6   neighborhood_overview                         75206 non-null   object \n",
            " 7   Cities                                        125798 non-null  object \n",
            " 8   picture_url                                   125798 non-null  object \n",
            " 9   host_id                                       125798 non-null  int64  \n",
            " 10  host_url                                      125798 non-null  object \n",
            " 11  host_name                                     125702 non-null  object \n",
            " 12  host_since                                    125702 non-null  object \n",
            " 13  host_location                                 125439 non-null  object \n",
            " 14  host_about                                    70301 non-null   object \n",
            " 15  host_response_time                            61275 non-null   object \n",
            " 16  host_response_rate                            61275 non-null   object \n",
            " 17  host_acceptance_rate                          64285 non-null   object \n",
            " 18  host_is_superhost                             125702 non-null  object \n",
            " 19  host_thumbnail_url                            125702 non-null  object \n",
            " 20  host_picture_url                              125702 non-null  object \n",
            " 21  host_neighbourhood                            89785 non-null   object \n",
            " 22  host_listings_count                           125702 non-null  float64\n",
            " 23  host_total_listings_count                     125702 non-null  float64\n",
            " 24  host_verifications                            125798 non-null  object \n",
            " 25  host_has_profile_pic                          125702 non-null  object \n",
            " 26  host_identity_verified                        125702 non-null  object \n",
            " 27  neighbourhood                                 75210 non-null   object \n",
            " 28  neighbourhood_cleansed                        125798 non-null  object \n",
            " 29  neighbourhood_group_cleansed                  38277 non-null   object \n",
            " 30  latitude                                      125798 non-null  float64\n",
            " 31  longitude                                     125798 non-null  float64\n",
            " 32  property_type                                 125798 non-null  object \n",
            " 33  room_type                                     125798 non-null  object \n",
            " 34  accommodates                                  125798 non-null  int64  \n",
            " 35  bathrooms                                     0 non-null       float64\n",
            " 36  bathrooms_text                                125423 non-null  object \n",
            " 37  bedrooms                                      116370 non-null  float64\n",
            " 38  beds                                          118843 non-null  float64\n",
            " 39  amenities                                     125798 non-null  object \n",
            " 40  price                                         125798 non-null  object \n",
            " 41  minimum_nights                                125798 non-null  int64  \n",
            " 42  maximum_nights                                125798 non-null  int64  \n",
            " 43  minimum_minimum_nights                        125776 non-null  float64\n",
            " 44  maximum_minimum_nights                        125776 non-null  float64\n",
            " 45  minimum_maximum_nights                        125776 non-null  float64\n",
            " 46  maximum_maximum_nights                        125776 non-null  float64\n",
            " 47  minimum_nights_avg_ntm                        125776 non-null  float64\n",
            " 48  maximum_nights_avg_ntm                        125776 non-null  float64\n",
            " 49  calendar_updated                              0 non-null       float64\n",
            " 50  has_availability                              125798 non-null  object \n",
            " 51  availability_30                               125798 non-null  int64  \n",
            " 52  availability_60                               125798 non-null  int64  \n",
            " 53  availability_90                               125798 non-null  int64  \n",
            " 54  availability_365                              125798 non-null  int64  \n",
            " 55  calendar_last_scraped                         125798 non-null  object \n",
            " 56  number_of_reviews                             125798 non-null  int64  \n",
            " 57  number_of_reviews_ltm                         125798 non-null  int64  \n",
            " 58  number_of_reviews_l30d                        125798 non-null  int64  \n",
            " 59  first_review                                  91926 non-null   object \n",
            " 60  last_review                                   91926 non-null   object \n",
            " 61  review_scores_rating                          91926 non-null   float64\n",
            " 62  review_scores_accuracy                        89384 non-null   float64\n",
            " 63  review_scores_cleanliness                     89416 non-null   float64\n",
            " 64  review_scores_checkin                         89331 non-null   float64\n",
            " 65  review_scores_communication                   89395 non-null   float64\n",
            " 66  review_scores_location                        89328 non-null   float64\n",
            " 67  review_scores_value                           89319 non-null   float64\n",
            " 68  license                                       7494 non-null    object \n",
            " 69  instant_bookable                              125798 non-null  object \n",
            " 70  calculated_host_listings_count                125798 non-null  int64  \n",
            " 71  calculated_host_listings_count_entire_homes   125798 non-null  int64  \n",
            " 72  calculated_host_listings_count_private_rooms  125798 non-null  int64  \n",
            " 73  calculated_host_listings_count_shared_rooms   125798 non-null  int64  \n",
            " 74  reviews_per_month                             91926 non-null   float64\n",
            "dtypes: float64(22), int64(17), object(36)\n",
            "memory usage: 72.9+ MB\n"
          ]
        }
      ]
    },
    {
      "cell_type": "markdown",
      "source": [
        "Deleting unwanted columns which are not required for predicting prices"
      ],
      "metadata": {
        "id": "6sl4fXTIV1tc"
      }
    },
    {
      "cell_type": "code",
      "source": [
        "unwanted_columns = ['id', \n",
        "                   'calendar_updated',\n",
        "                    'host_location',\n",
        "                   'listing_url', \n",
        "                   'scrape_id', \n",
        "                   'host_id',\n",
        "                   'picture_url', \n",
        "                   'host_url', \n",
        "                   'host_thumbnail_url', \n",
        "                   'host_picture_url', 'host_name','license','name', 'last_scraped','availability_90', 'host_listings_count','host_acceptance_rate','host_about','neighbourhood_group_cleansed','neighborhood_overview' ,'bathrooms','review_scores_accuracy','review_scores_rating','host_neighbourhood','neighbourhood','bedrooms','minimum_minimum_nights','review_scores_accuracy', 'maximum_minimum_nights', 'maximum_maximum_nights', 'minimum_maximum_nights', 'availability_30', 'availability_60', 'calendar_last_scraped', 'number_of_reviews_l30d', 'first_review','last_review', 'review_scores_cleanliness', 'review_scores_checkin', 'review_scores_communication', 'review_scores_location', 'review_scores_value', 'reviews_per_month']\n",
        "listings.drop(unwanted_columns, axis=1, inplace=True)\n"
      ],
      "metadata": {
        "id": "Sj1_mqgGV1QI"
      },
      "execution_count": null,
      "outputs": []
    },
    {
      "cell_type": "code",
      "source": [
        "listings.shape"
      ],
      "metadata": {
        "colab": {
          "base_uri": "https://localhost:8080/"
        },
        "id": "Qc2fcTjWU7Sm",
        "outputId": "61036d0c-a151-40f5-e437-26e02dac7b21"
      },
      "execution_count": null,
      "outputs": [
        {
          "output_type": "execute_result",
          "data": {
            "text/plain": [
              "(125798, 33)"
            ]
          },
          "metadata": {},
          "execution_count": 10
        }
      ]
    },
    {
      "cell_type": "markdown",
      "source": [
        "Checking the target column \"PRICE\""
      ],
      "metadata": {
        "id": "4MRXnvRQYS5l"
      }
    },
    {
      "cell_type": "code",
      "source": [
        "listings.price"
      ],
      "metadata": {
        "colab": {
          "base_uri": "https://localhost:8080/"
        },
        "id": "09VThDy2YavG",
        "outputId": "33b64a6a-09ae-433f-81c5-a935a8d806c2"
      },
      "execution_count": null,
      "outputs": [
        {
          "output_type": "execute_result",
          "data": {
            "text/plain": [
              "0        $150.00\n",
              "1         $75.00\n",
              "2         $60.00\n",
              "3        $275.00\n",
              "4         $68.00\n",
              "          ...   \n",
              "20875     $79.00\n",
              "20876     $80.00\n",
              "20877    $150.00\n",
              "20878    $169.00\n",
              "20879    $254.00\n",
              "Name: price, Length: 125798, dtype: object"
            ]
          },
          "metadata": {},
          "execution_count": 11
        }
      ]
    },
    {
      "cell_type": "code",
      "source": [
        "listings['price'] = listings['price'].replace({r'\\$':'', r'\\,':''}, regex = True)\n",
        "listings.price"
      ],
      "metadata": {
        "colab": {
          "base_uri": "https://localhost:8080/"
        },
        "id": "ecZ9hnGvYQ_9",
        "outputId": "ed076528-fd67-49fd-d215-06f62b240b7e"
      },
      "execution_count": null,
      "outputs": [
        {
          "output_type": "execute_result",
          "data": {
            "text/plain": [
              "0        150.00\n",
              "1         75.00\n",
              "2         60.00\n",
              "3        275.00\n",
              "4         68.00\n",
              "          ...  \n",
              "20875     79.00\n",
              "20876     80.00\n",
              "20877    150.00\n",
              "20878    169.00\n",
              "20879    254.00\n",
              "Name: price, Length: 125798, dtype: object"
            ]
          },
          "metadata": {},
          "execution_count": 12
        }
      ]
    },
    {
      "cell_type": "code",
      "source": [
        "listings['price'] = listings['price'].astype(np.float)\n",
        "listings.price"
      ],
      "metadata": {
        "colab": {
          "base_uri": "https://localhost:8080/"
        },
        "id": "T-vZKfZ6Wmhl",
        "outputId": "6d3eb5fa-89ec-43bb-df03-0c75afc92f7e"
      },
      "execution_count": null,
      "outputs": [
        {
          "output_type": "stream",
          "name": "stderr",
          "text": [
            "/usr/local/lib/python3.7/dist-packages/ipykernel_launcher.py:1: DeprecationWarning: `np.float` is a deprecated alias for the builtin `float`. To silence this warning, use `float` by itself. Doing this will not modify any behavior and is safe. If you specifically wanted the numpy scalar type, use `np.float64` here.\n",
            "Deprecated in NumPy 1.20; for more details and guidance: https://numpy.org/devdocs/release/1.20.0-notes.html#deprecations\n",
            "  \"\"\"Entry point for launching an IPython kernel.\n"
          ]
        },
        {
          "output_type": "execute_result",
          "data": {
            "text/plain": [
              "0        150.0\n",
              "1         75.0\n",
              "2         60.0\n",
              "3        275.0\n",
              "4         68.0\n",
              "         ...  \n",
              "20875     79.0\n",
              "20876     80.0\n",
              "20877    150.0\n",
              "20878    169.0\n",
              "20879    254.0\n",
              "Name: price, Length: 125798, dtype: float64"
            ]
          },
          "metadata": {},
          "execution_count": 13
        }
      ]
    },
    {
      "cell_type": "markdown",
      "source": [
        "Dealing with missing data"
      ],
      "metadata": {
        "id": "UFKCC04gaFcl"
      }
    },
    {
      "cell_type": "code",
      "source": [
        "listings.isnull().sum().sort_values(ascending=False)"
      ],
      "metadata": {
        "colab": {
          "base_uri": "https://localhost:8080/"
        },
        "id": "zgm90xgdZBUX",
        "outputId": "424724c6-4d52-4b03-e25f-4b681e95bf0a"
      },
      "execution_count": null,
      "outputs": [
        {
          "output_type": "execute_result",
          "data": {
            "text/plain": [
              "host_response_rate                              64523\n",
              "host_response_time                              64523\n",
              "beds                                             6955\n",
              "description                                      4290\n",
              "bathrooms_text                                    375\n",
              "host_is_superhost                                  96\n",
              "host_has_profile_pic                               96\n",
              "host_identity_verified                             96\n",
              "host_since                                         96\n",
              "host_total_listings_count                          96\n",
              "maximum_nights_avg_ntm                             22\n",
              "minimum_nights_avg_ntm                             22\n",
              "maximum_nights                                      0\n",
              "calculated_host_listings_count_private_rooms        0\n",
              "calculated_host_listings_count_entire_homes         0\n",
              "calculated_host_listings_count                      0\n",
              "instant_bookable                                    0\n",
              "number_of_reviews_ltm                               0\n",
              "number_of_reviews                                   0\n",
              "availability_365                                    0\n",
              "has_availability                                    0\n",
              "price                                               0\n",
              "minimum_nights                                      0\n",
              "amenities                                           0\n",
              "Cities                                              0\n",
              "accommodates                                        0\n",
              "room_type                                           0\n",
              "property_type                                       0\n",
              "longitude                                           0\n",
              "latitude                                            0\n",
              "neighbourhood_cleansed                              0\n",
              "host_verifications                                  0\n",
              "calculated_host_listings_count_shared_rooms         0\n",
              "dtype: int64"
            ]
          },
          "metadata": {},
          "execution_count": 14
        }
      ]
    },
    {
      "cell_type": "code",
      "source": [
        "missing_percent = listings.isnull().sum(axis =0) /listings.shape[0] *100\n",
        "\n",
        "missing_percent"
      ],
      "metadata": {
        "colab": {
          "base_uri": "https://localhost:8080/"
        },
        "id": "GKhqv3thZBWu",
        "outputId": "a07706dc-c0f4-47aa-a012-05dad56c609a"
      },
      "execution_count": null,
      "outputs": [
        {
          "output_type": "execute_result",
          "data": {
            "text/plain": [
              "description                                      3.410229\n",
              "Cities                                           0.000000\n",
              "host_since                                       0.076313\n",
              "host_response_time                              51.290959\n",
              "host_response_rate                              51.290959\n",
              "host_is_superhost                                0.076313\n",
              "host_total_listings_count                        0.076313\n",
              "host_verifications                               0.000000\n",
              "host_has_profile_pic                             0.076313\n",
              "host_identity_verified                           0.076313\n",
              "neighbourhood_cleansed                           0.000000\n",
              "latitude                                         0.000000\n",
              "longitude                                        0.000000\n",
              "property_type                                    0.000000\n",
              "room_type                                        0.000000\n",
              "accommodates                                     0.000000\n",
              "bathrooms_text                                   0.298097\n",
              "beds                                             5.528705\n",
              "amenities                                        0.000000\n",
              "price                                            0.000000\n",
              "minimum_nights                                   0.000000\n",
              "maximum_nights                                   0.000000\n",
              "minimum_nights_avg_ntm                           0.017488\n",
              "maximum_nights_avg_ntm                           0.017488\n",
              "has_availability                                 0.000000\n",
              "availability_365                                 0.000000\n",
              "number_of_reviews                                0.000000\n",
              "number_of_reviews_ltm                            0.000000\n",
              "instant_bookable                                 0.000000\n",
              "calculated_host_listings_count                   0.000000\n",
              "calculated_host_listings_count_entire_homes      0.000000\n",
              "calculated_host_listings_count_private_rooms     0.000000\n",
              "calculated_host_listings_count_shared_rooms      0.000000\n",
              "dtype: float64"
            ]
          },
          "metadata": {},
          "execution_count": 15
        }
      ]
    },
    {
      "cell_type": "code",
      "source": [
        "import matplotlib.pyplot as plt\n",
        "plt.hist(missing_percent)"
      ],
      "metadata": {
        "colab": {
          "base_uri": "https://localhost:8080/",
          "height": 355
        },
        "id": "gTBRyik8ZBZS",
        "outputId": "fa390bac-b72c-4fa7-982f-5c2ad3c0aa29"
      },
      "execution_count": null,
      "outputs": [
        {
          "output_type": "execute_result",
          "data": {
            "text/plain": [
              "(array([30.,  1.,  0.,  0.,  0.,  0.,  0.,  0.,  0.,  2.]),\n",
              " array([ 0.        ,  5.12909585, 10.2581917 , 15.38728756, 20.51638341,\n",
              "        25.64547926, 30.77457511, 35.90367096, 41.03276682, 46.16186267,\n",
              "        51.29095852]),\n",
              " <a list of 10 Patch objects>)"
            ]
          },
          "metadata": {},
          "execution_count": 16
        },
        {
          "output_type": "display_data",
          "data": {
            "text/plain": [
              "<Figure size 432x288 with 1 Axes>"
            ],
            "image/png": "[encoded data removed]"
          },
          "metadata": {
            "needs_background": "light"
          }
        }
      ]
    },
    {
      "cell_type": "markdown",
      "source": [
        "From the histogram of number of missing value across columns, I decide to drop all the columns with more than 20% of samples are missing"
      ],
      "metadata": {
        "id": "NJy7M7vDc2I6"
      }
    },
    {
      "cell_type": "code",
      "source": [
        "# get the list of all columns with more than 20% samples has missing value \n",
        "col_drop = missing_percent[missing_percent > 20].index\n",
        "col_drop"
      ],
      "metadata": {
        "colab": {
          "base_uri": "https://localhost:8080/"
        },
        "id": "3Ql4tvF_ZBbu",
        "outputId": "75b3bce3-e379-4936-a479-0d17ae2c2813"
      },
      "execution_count": null,
      "outputs": [
        {
          "output_type": "execute_result",
          "data": {
            "text/plain": [
              "Index(['host_response_time', 'host_response_rate'], dtype='object')"
            ]
          },
          "metadata": {},
          "execution_count": 17
        }
      ]
    },
    {
      "cell_type": "code",
      "source": [
        "# drop those columns \n",
        "listings = listings.drop(col_drop, axis =1 )"
      ],
      "metadata": {
        "id": "Pjdbb_aRdFnr"
      },
      "execution_count": null,
      "outputs": []
    },
    {
      "cell_type": "code",
      "source": [
        "# look at the data with few missing value \n",
        "few_missing_col = missing_percent[(missing_percent>0) & (missing_percent <0.2)].index.tolist()\n",
        "few_missing_col \n",
        "\n",
        "#listings[few_missing_col]"
      ],
      "metadata": {
        "colab": {
          "base_uri": "https://localhost:8080/"
        },
        "id": "53695zh2ZBd0",
        "outputId": "f0e5befd-464b-47a5-b05f-120d7b62b538"
      },
      "execution_count": null,
      "outputs": [
        {
          "output_type": "execute_result",
          "data": {
            "text/plain": [
              "['host_since',\n",
              " 'host_is_superhost',\n",
              " 'host_total_listings_count',\n",
              " 'host_has_profile_pic',\n",
              " 'host_identity_verified',\n",
              " 'minimum_nights_avg_ntm',\n",
              " 'maximum_nights_avg_ntm']"
            ]
          },
          "metadata": {},
          "execution_count": 19
        }
      ]
    },
    {
      "cell_type": "code",
      "source": [
        "listings.isnull().sum().sort_values(ascending=False)"
      ],
      "metadata": {
        "colab": {
          "base_uri": "https://localhost:8080/"
        },
        "id": "9p1NgyxSeDh0",
        "outputId": "b936cce5-7159-481e-8b74-916d3442a680"
      },
      "execution_count": null,
      "outputs": [
        {
          "output_type": "execute_result",
          "data": {
            "text/plain": [
              "beds                                            6955\n",
              "description                                     4290\n",
              "bathrooms_text                                   375\n",
              "host_since                                        96\n",
              "host_total_listings_count                         96\n",
              "host_has_profile_pic                              96\n",
              "host_identity_verified                            96\n",
              "host_is_superhost                                 96\n",
              "maximum_nights_avg_ntm                            22\n",
              "minimum_nights_avg_ntm                            22\n",
              "maximum_nights                                     0\n",
              "number_of_reviews_ltm                              0\n",
              "number_of_reviews                                  0\n",
              "availability_365                                   0\n",
              "calculated_host_listings_count                     0\n",
              "has_availability                                   0\n",
              "calculated_host_listings_count_entire_homes        0\n",
              "calculated_host_listings_count_private_rooms       0\n",
              "instant_bookable                                   0\n",
              "amenities                                          0\n",
              "minimum_nights                                     0\n",
              "price                                              0\n",
              "Cities                                             0\n",
              "accommodates                                       0\n",
              "room_type                                          0\n",
              "property_type                                      0\n",
              "longitude                                          0\n",
              "latitude                                           0\n",
              "neighbourhood_cleansed                             0\n",
              "host_verifications                                 0\n",
              "calculated_host_listings_count_shared_rooms        0\n",
              "dtype: int64"
            ]
          },
          "metadata": {},
          "execution_count": 20
        }
      ]
    },
    {
      "cell_type": "code",
      "source": [
        "listings.dtypes"
      ],
      "metadata": {
        "colab": {
          "base_uri": "https://localhost:8080/"
        },
        "id": "X_mUbZU8eO31",
        "outputId": "eb7a8d18-51d9-477b-f1ff-692241a2921d"
      },
      "execution_count": null,
      "outputs": [
        {
          "output_type": "execute_result",
          "data": {
            "text/plain": [
              "description                                      object\n",
              "Cities                                           object\n",
              "host_since                                       object\n",
              "host_is_superhost                                object\n",
              "host_total_listings_count                       float64\n",
              "host_verifications                               object\n",
              "host_has_profile_pic                             object\n",
              "host_identity_verified                           object\n",
              "neighbourhood_cleansed                           object\n",
              "latitude                                        float64\n",
              "longitude                                       float64\n",
              "property_type                                    object\n",
              "room_type                                        object\n",
              "accommodates                                      int64\n",
              "bathrooms_text                                   object\n",
              "beds                                            float64\n",
              "amenities                                        object\n",
              "price                                           float64\n",
              "minimum_nights                                    int64\n",
              "maximum_nights                                    int64\n",
              "minimum_nights_avg_ntm                          float64\n",
              "maximum_nights_avg_ntm                          float64\n",
              "has_availability                                 object\n",
              "availability_365                                  int64\n",
              "number_of_reviews                                 int64\n",
              "number_of_reviews_ltm                             int64\n",
              "instant_bookable                                 object\n",
              "calculated_host_listings_count                    int64\n",
              "calculated_host_listings_count_entire_homes       int64\n",
              "calculated_host_listings_count_private_rooms      int64\n",
              "calculated_host_listings_count_shared_rooms       int64\n",
              "dtype: object"
            ]
          },
          "metadata": {},
          "execution_count": 21
        }
      ]
    },
    {
      "cell_type": "markdown",
      "source": [
        "Do Imputation for missing value\n",
        "For those numeric columns, I will do imputation the missing value with the mean.\n",
        "\n",
        "For those categorical columns I will do imputation the missing value with the mode."
      ],
      "metadata": {
        "id": "qTQRaPYbdNpu"
      }
    },
    {
      "cell_type": "code",
      "source": [
        "from sklearn.impute import SimpleImputer\n",
        "\n",
        "imputer1 = SimpleImputer(strategy = 'mean')\n",
        "\n",
        "numeric_col = ['beds', 'host_total_listings_count','minimum_nights_avg_ntm','maximum_nights_avg_ntm']\n",
        " \n",
        "data = imputer1.fit_transform(listings[numeric_col])\n",
        "\n",
        "listings[numeric_col] = pd.DataFrame(data, columns = numeric_col)\n",
        "\n",
        "listings[numeric_col].head()\n"
      ],
      "metadata": {
        "colab": {
          "base_uri": "https://localhost:8080/",
          "height": 206
        },
        "id": "kriR5WhvdPKt",
        "outputId": "88c8d8bd-839d-4d84-fb04-b4a5057c1227"
      },
      "execution_count": null,
      "outputs": [
        {
          "output_type": "execute_result",
          "data": {
            "text/plain": [
              "   beds  host_total_listings_count  minimum_nights_avg_ntm  \\\n",
              "0   1.0                        8.0                    30.0   \n",
              "1   3.0                        1.0                     1.0   \n",
              "2   1.0                        1.0                    30.0   \n",
              "3   2.0                        1.0                     5.0   \n",
              "4   1.0                        1.0                     2.0   \n",
              "\n",
              "   maximum_nights_avg_ntm  \n",
              "0                  1125.0  \n",
              "1                   730.0  \n",
              "2                   730.0  \n",
              "3                  1125.0  \n",
              "4                    14.0  "
            ],
            "text/html": [
              "\n",
              "  <div id=\"df-ce13f287-54bd-4ff2-addb-ed12f42aa018\">\n",
              "    <div class=\"colab-df-container\">\n",
              "      <div>\n",
              "<style scoped>\n",
              "    .dataframe tbody tr th:only-of-type {\n",
              "        vertical-align: middle;\n",
              "    }\n",
              "\n",
              "    .dataframe tbody tr th {\n",
              "        vertical-align: top;\n",
              "    }\n",
              "\n",
              "    .dataframe thead th {\n",
              "        text-align: right;\n",
              "    }\n",
              "</style>\n",
              "<table border=\"1\" class=\"dataframe\">\n",
              "  <thead>\n",
              "    <tr style=\"text-align: right;\">\n",
              "      <th></th>\n",
              "      <th>beds</th>\n",
              "      <th>host_total_listings_count</th>\n",
              "      <th>minimum_nights_avg_ntm</th>\n",
              "      <th>maximum_nights_avg_ntm</th>\n",
              "    </tr>\n",
              "  </thead>\n",
              "  <tbody>\n",
              "    <tr>\n",
              "      <th>0</th>\n",
              "      <td>1.0</td>\n",
              "      <td>8.0</td>\n",
              "      <td>30.0</td>\n",
              "      <td>1125.0</td>\n",
              "    </tr>\n",
              "    <tr>\n",
              "      <th>1</th>\n",
              "      <td>3.0</td>\n",
              "      <td>1.0</td>\n",
              "      <td>1.0</td>\n",
              "      <td>730.0</td>\n",
              "    </tr>\n",
              "    <tr>\n",
              "      <th>2</th>\n",
              "      <td>1.0</td>\n",
              "      <td>1.0</td>\n",
              "      <td>30.0</td>\n",
              "      <td>730.0</td>\n",
              "    </tr>\n",
              "    <tr>\n",
              "      <th>3</th>\n",
              "      <td>2.0</td>\n",
              "      <td>1.0</td>\n",
              "      <td>5.0</td>\n",
              "      <td>1125.0</td>\n",
              "    </tr>\n",
              "    <tr>\n",
              "      <th>4</th>\n",
              "      <td>1.0</td>\n",
              "      <td>1.0</td>\n",
              "      <td>2.0</td>\n",
              "      <td>14.0</td>\n",
              "    </tr>\n",
              "  </tbody>\n",
              "</table>\n",
              "</div>\n",
              "      <button class=\"colab-df-convert\" onclick=\"convertToInteractive('df-ce13f287-54bd-4ff2-addb-ed12f42aa018')\"\n",
              "              title=\"Convert this dataframe to an interactive table.\"\n",
              "              style=\"display:none;\">\n",
              "        \n",
              "  <svg xmlns=\"http://www.w3.org/2000/svg\" height=\"24px\"viewBox=\"0 0 24 24\"\n",
              "       width=\"24px\">\n",
              "    <path d=\"M0 0h24v24H0V0z\" fill=\"none\"/>\n",
              "    <path d=\"M18.56 5.44l.94 2.06.94-2.06 2.06-.94-2.06-.94-.94-2.06-.94 2.06-2.06.94zm-11 1L8.5 8.5l.94-2.06 2.06-.94-2.06-.94L8.5 2.5l-.94 2.06-2.06.94zm10 10l.94 2.06.94-2.06 2.06-.94-2.06-.94-.94-2.06-.94 2.06-2.06.94z\"/><path d=\"M17.41 7.96l-1.37-1.37c-.4-.4-.92-.59-1.43-.59-.52 0-1.04.2-1.43.59L10.3 9.45l-7.72 7.72c-.78.78-.78 2.05 0 2.83L4 21.41c.39.39.9.59 1.41.59.51 0 1.02-.2 1.41-.59l7.78-7.78 2.81-2.81c.8-.78.8-2.07 0-2.86zM5.41 20L4 18.59l7.72-7.72 1.47 1.35L5.41 20z\"/>\n",
              "  </svg>\n",
              "      </button>\n",
              "      \n",
              "  <style>\n",
              "    .colab-df-container {\n",
              "      display:flex;\n",
              "      flex-wrap:wrap;\n",
              "      gap: 12px;\n",
              "    }\n",
              "\n",
              "    .colab-df-convert {\n",
              "      background-color: #E8F0FE;\n",
              "      border: none;\n",
              "      border-radius: 50%;\n",
              "      cursor: pointer;\n",
              "      display: none;\n",
              "      fill: #1967D2;\n",
              "      height: 32px;\n",
              "      padding: 0 0 0 0;\n",
              "      width: 32px;\n",
              "    }\n",
              "\n",
              "    .colab-df-convert:hover {\n",
              "      background-color: #E2EBFA;\n",
              "      box-shadow: 0px 1px 2px rgba(60, 64, 67, 0.3), 0px 1px 3px 1px rgba(60, 64, 67, 0.15);\n",
              "      fill: #174EA6;\n",
              "    }\n",
              "\n",
              "    [theme=dark] .colab-df-convert {\n",
              "      background-color: #3B4455;\n",
              "      fill: #D2E3FC;\n",
              "    }\n",
              "\n",
              "    [theme=dark] .colab-df-convert:hover {\n",
              "      background-color: #434B5C;\n",
              "      box-shadow: 0px 1px 3px 1px rgba(0, 0, 0, 0.15);\n",
              "      filter: drop-shadow(0px 1px 2px rgba(0, 0, 0, 0.3));\n",
              "      fill: #FFFFFF;\n",
              "    }\n",
              "  </style>\n",
              "\n",
              "      <script>\n",
              "        const buttonEl =\n",
              "          document.querySelector('#df-ce13f287-54bd-4ff2-addb-ed12f42aa018 button.colab-df-convert');\n",
              "        buttonEl.style.display =\n",
              "          google.colab.kernel.accessAllowed ? 'block' : 'none';\n",
              "\n",
              "        async function convertToInteractive(key) {\n",
              "          const element = document.querySelector('#df-ce13f287-54bd-4ff2-addb-ed12f42aa018');\n",
              "          const dataTable =\n",
              "            await google.colab.kernel.invokeFunction('convertToInteractive',\n",
              "                                                     [key], {});\n",
              "          if (!dataTable) return;\n",
              "\n",
              "          const docLinkHtml = 'Like what you see? Visit the ' +\n",
              "            '<a target=\"_blank\" href=https://colab.research.google.com/notebooks/data_table.ipynb>data table notebook</a>'\n",
              "            + ' to learn more about interactive tables.';\n",
              "          element.innerHTML = '';\n",
              "          dataTable['output_type'] = 'display_data';\n",
              "          await google.colab.output.renderOutput(dataTable, element);\n",
              "          const docLink = document.createElement('div');\n",
              "          docLink.innerHTML = docLinkHtml;\n",
              "          element.appendChild(docLink);\n",
              "        }\n",
              "      </script>\n",
              "    </div>\n",
              "  </div>\n",
              "  "
            ]
          },
          "metadata": {},
          "execution_count": 22
        }
      ]
    },
    {
      "cell_type": "code",
      "source": [
        "# look at the categorical data \n",
        "categorical_col = ['host_is_superhost','host_identity_verified', 'host_has_profile_pic', 'bathrooms_text']\n",
        "\n",
        "listings[categorical_col].head()"
      ],
      "metadata": {
        "colab": {
          "base_uri": "https://localhost:8080/",
          "height": 206
        },
        "id": "FF448eTnfD9S",
        "outputId": "9cd127c6-33d6-454f-f718-6fd8fa5b61f9"
      },
      "execution_count": null,
      "outputs": [
        {
          "output_type": "execute_result",
          "data": {
            "text/plain": [
              "  host_is_superhost host_identity_verified host_has_profile_pic bathrooms_text\n",
              "0                 f                      t                    t         1 bath\n",
              "1                 f                      t                    t         1 bath\n",
              "2                 f                      t                    t            NaN\n",
              "3                 f                      t                    t      1.5 baths\n",
              "4                 f                      f                    t         1 bath"
            ],
            "text/html": [
              "\n",
              "  <div id=\"df-b9cd3ac6-aed5-4efc-a586-fb80939a9480\">\n",
              "    <div class=\"colab-df-container\">\n",
              "      <div>\n",
              "<style scoped>\n",
              "    .dataframe tbody tr th:only-of-type {\n",
              "        vertical-align: middle;\n",
              "    }\n",
              "\n",
              "    .dataframe tbody tr th {\n",
              "        vertical-align: top;\n",
              "    }\n",
              "\n",
              "    .dataframe thead th {\n",
              "        text-align: right;\n",
              "    }\n",
              "</style>\n",
              "<table border=\"1\" class=\"dataframe\">\n",
              "  <thead>\n",
              "    <tr style=\"text-align: right;\">\n",
              "      <th></th>\n",
              "      <th>host_is_superhost</th>\n",
              "      <th>host_identity_verified</th>\n",
              "      <th>host_has_profile_pic</th>\n",
              "      <th>bathrooms_text</th>\n",
              "    </tr>\n",
              "  </thead>\n",
              "  <tbody>\n",
              "    <tr>\n",
              "      <th>0</th>\n",
              "      <td>f</td>\n",
              "      <td>t</td>\n",
              "      <td>t</td>\n",
              "      <td>1 bath</td>\n",
              "    </tr>\n",
              "    <tr>\n",
              "      <th>1</th>\n",
              "      <td>f</td>\n",
              "      <td>t</td>\n",
              "      <td>t</td>\n",
              "      <td>1 bath</td>\n",
              "    </tr>\n",
              "    <tr>\n",
              "      <th>2</th>\n",
              "      <td>f</td>\n",
              "      <td>t</td>\n",
              "      <td>t</td>\n",
              "      <td>NaN</td>\n",
              "    </tr>\n",
              "    <tr>\n",
              "      <th>3</th>\n",
              "      <td>f</td>\n",
              "      <td>t</td>\n",
              "      <td>t</td>\n",
              "      <td>1.5 baths</td>\n",
              "    </tr>\n",
              "    <tr>\n",
              "      <th>4</th>\n",
              "      <td>f</td>\n",
              "      <td>f</td>\n",
              "      <td>t</td>\n",
              "      <td>1 bath</td>\n",
              "    </tr>\n",
              "  </tbody>\n",
              "</table>\n",
              "</div>\n",
              "      <button class=\"colab-df-convert\" onclick=\"convertToInteractive('df-b9cd3ac6-aed5-4efc-a586-fb80939a9480')\"\n",
              "              title=\"Convert this dataframe to an interactive table.\"\n",
              "              style=\"display:none;\">\n",
              "        \n",
              "  <svg xmlns=\"http://www.w3.org/2000/svg\" height=\"24px\"viewBox=\"0 0 24 24\"\n",
              "       width=\"24px\">\n",
              "    <path d=\"M0 0h24v24H0V0z\" fill=\"none\"/>\n",
              "    <path d=\"M18.56 5.44l.94 2.06.94-2.06 2.06-.94-2.06-.94-.94-2.06-.94 2.06-2.06.94zm-11 1L8.5 8.5l.94-2.06 2.06-.94-2.06-.94L8.5 2.5l-.94 2.06-2.06.94zm10 10l.94 2.06.94-2.06 2.06-.94-2.06-.94-.94-2.06-.94 2.06-2.06.94z\"/><path d=\"M17.41 7.96l-1.37-1.37c-.4-.4-.92-.59-1.43-.59-.52 0-1.04.2-1.43.59L10.3 9.45l-7.72 7.72c-.78.78-.78 2.05 0 2.83L4 21.41c.39.39.9.59 1.41.59.51 0 1.02-.2 1.41-.59l7.78-7.78 2.81-2.81c.8-.78.8-2.07 0-2.86zM5.41 20L4 18.59l7.72-7.72 1.47 1.35L5.41 20z\"/>\n",
              "  </svg>\n",
              "      </button>\n",
              "      \n",
              "  <style>\n",
              "    .colab-df-container {\n",
              "      display:flex;\n",
              "      flex-wrap:wrap;\n",
              "      gap: 12px;\n",
              "    }\n",
              "\n",
              "    .colab-df-convert {\n",
              "      background-color: #E8F0FE;\n",
              "      border: none;\n",
              "      border-radius: 50%;\n",
              "      cursor: pointer;\n",
              "      display: none;\n",
              "      fill: #1967D2;\n",
              "      height: 32px;\n",
              "      padding: 0 0 0 0;\n",
              "      width: 32px;\n",
              "    }\n",
              "\n",
              "    .colab-df-convert:hover {\n",
              "      background-color: #E2EBFA;\n",
              "      box-shadow: 0px 1px 2px rgba(60, 64, 67, 0.3), 0px 1px 3px 1px rgba(60, 64, 67, 0.15);\n",
              "      fill: #174EA6;\n",
              "    }\n",
              "\n",
              "    [theme=dark] .colab-df-convert {\n",
              "      background-color: #3B4455;\n",
              "      fill: #D2E3FC;\n",
              "    }\n",
              "\n",
              "    [theme=dark] .colab-df-convert:hover {\n",
              "      background-color: #434B5C;\n",
              "      box-shadow: 0px 1px 3px 1px rgba(0, 0, 0, 0.15);\n",
              "      filter: drop-shadow(0px 1px 2px rgba(0, 0, 0, 0.3));\n",
              "      fill: #FFFFFF;\n",
              "    }\n",
              "  </style>\n",
              "\n",
              "      <script>\n",
              "        const buttonEl =\n",
              "          document.querySelector('#df-b9cd3ac6-aed5-4efc-a586-fb80939a9480 button.colab-df-convert');\n",
              "        buttonEl.style.display =\n",
              "          google.colab.kernel.accessAllowed ? 'block' : 'none';\n",
              "\n",
              "        async function convertToInteractive(key) {\n",
              "          const element = document.querySelector('#df-b9cd3ac6-aed5-4efc-a586-fb80939a9480');\n",
              "          const dataTable =\n",
              "            await google.colab.kernel.invokeFunction('convertToInteractive',\n",
              "                                                     [key], {});\n",
              "          if (!dataTable) return;\n",
              "\n",
              "          const docLinkHtml = 'Like what you see? Visit the ' +\n",
              "            '<a target=\"_blank\" href=https://colab.research.google.com/notebooks/data_table.ipynb>data table notebook</a>'\n",
              "            + ' to learn more about interactive tables.';\n",
              "          element.innerHTML = '';\n",
              "          dataTable['output_type'] = 'display_data';\n",
              "          await google.colab.output.renderOutput(dataTable, element);\n",
              "          const docLink = document.createElement('div');\n",
              "          docLink.innerHTML = docLinkHtml;\n",
              "          element.appendChild(docLink);\n",
              "        }\n",
              "      </script>\n",
              "    </div>\n",
              "  </div>\n",
              "  "
            ]
          },
          "metadata": {},
          "execution_count": 23
        }
      ]
    },
    {
      "cell_type": "code",
      "source": [
        "# Label encode 'host_is_superhost', 'host_identity_verified', 'host_has-profile_pic'\n",
        "\n",
        "listings['host_identity_verified'] = listings['host_identity_verified'].map({'t':1, 'f':0})\n",
        "listings['host_is_superhost'] = listings['host_is_superhost'].map({'t':1, 'f':0})\n",
        "listings['host_has_profile_pic'] = listings['host_has_profile_pic'].map({'t':1, 'f':0})\n"
      ],
      "metadata": {
        "id": "7F3NNpq1g_9P"
      },
      "execution_count": null,
      "outputs": []
    },
    {
      "cell_type": "code",
      "source": [
        "listings['host_identity_verified'] = listings['host_identity_verified'].astype(float)\n",
        "listings['host_is_superhost'] = listings['host_is_superhost'].astype(float)\n",
        "listings['host_has_profile_pic'] = listings['host_has_profile_pic'].astype(float)"
      ],
      "metadata": {
        "id": "4CgPIbyx3DCz"
      },
      "execution_count": null,
      "outputs": []
    },
    {
      "cell_type": "code",
      "source": [
        "(listings[categorical_col])"
      ],
      "metadata": {
        "colab": {
          "base_uri": "https://localhost:8080/",
          "height": 423
        },
        "id": "rrP5DsbuhTO5",
        "outputId": "38daa173-0c40-476e-9fbe-e3b676b4a020"
      },
      "execution_count": null,
      "outputs": [
        {
          "output_type": "execute_result",
          "data": {
            "text/plain": [
              "       host_is_superhost  host_identity_verified  host_has_profile_pic  \\\n",
              "0                    0.0                     1.0                   1.0   \n",
              "1                    0.0                     1.0                   1.0   \n",
              "2                    0.0                     1.0                   1.0   \n",
              "3                    0.0                     1.0                   1.0   \n",
              "4                    0.0                     0.0                   1.0   \n",
              "...                  ...                     ...                   ...   \n",
              "20875                0.0                     1.0                   1.0   \n",
              "20876                0.0                     1.0                   1.0   \n",
              "20877                0.0                     1.0                   1.0   \n",
              "20878                0.0                     1.0                   1.0   \n",
              "20879                0.0                     1.0                   1.0   \n",
              "\n",
              "       bathrooms_text  \n",
              "0              1 bath  \n",
              "1              1 bath  \n",
              "2                 NaN  \n",
              "3           1.5 baths  \n",
              "4              1 bath  \n",
              "...               ...  \n",
              "20875  1 private bath  \n",
              "20876             NaN  \n",
              "20877          1 bath  \n",
              "20878         2 baths  \n",
              "20879       1.5 baths  \n",
              "\n",
              "[125798 rows x 4 columns]"
            ],
            "text/html": [
              "\n",
              "  <div id=\"df-37890b89-7eeb-470a-8ae8-efe4d2f6b1d2\">\n",
              "    <div class=\"colab-df-container\">\n",
              "      <div>\n",
              "<style scoped>\n",
              "    .dataframe tbody tr th:only-of-type {\n",
              "        vertical-align: middle;\n",
              "    }\n",
              "\n",
              "    .dataframe tbody tr th {\n",
              "        vertical-align: top;\n",
              "    }\n",
              "\n",
              "    .dataframe thead th {\n",
              "        text-align: right;\n",
              "    }\n",
              "</style>\n",
              "<table border=\"1\" class=\"dataframe\">\n",
              "  <thead>\n",
              "    <tr style=\"text-align: right;\">\n",
              "      <th></th>\n",
              "      <th>host_is_superhost</th>\n",
              "      <th>host_identity_verified</th>\n",
              "      <th>host_has_profile_pic</th>\n",
              "      <th>bathrooms_text</th>\n",
              "    </tr>\n",
              "  </thead>\n",
              "  <tbody>\n",
              "    <tr>\n",
              "      <th>0</th>\n",
              "      <td>0.0</td>\n",
              "      <td>1.0</td>\n",
              "      <td>1.0</td>\n",
              "      <td>1 bath</td>\n",
              "    </tr>\n",
              "    <tr>\n",
              "      <th>1</th>\n",
              "      <td>0.0</td>\n",
              "      <td>1.0</td>\n",
              "      <td>1.0</td>\n",
              "      <td>1 bath</td>\n",
              "    </tr>\n",
              "    <tr>\n",
              "      <th>2</th>\n",
              "      <td>0.0</td>\n",
              "      <td>1.0</td>\n",
              "      <td>1.0</td>\n",
              "      <td>NaN</td>\n",
              "    </tr>\n",
              "    <tr>\n",
              "      <th>3</th>\n",
              "      <td>0.0</td>\n",
              "      <td>1.0</td>\n",
              "      <td>1.0</td>\n",
              "      <td>1.5 baths</td>\n",
              "    </tr>\n",
              "    <tr>\n",
              "      <th>4</th>\n",
              "      <td>0.0</td>\n",
              "      <td>0.0</td>\n",
              "      <td>1.0</td>\n",
              "      <td>1 bath</td>\n",
              "    </tr>\n",
              "    <tr>\n",
              "      <th>...</th>\n",
              "      <td>...</td>\n",
              "      <td>...</td>\n",
              "      <td>...</td>\n",
              "      <td>...</td>\n",
              "    </tr>\n",
              "    <tr>\n",
              "      <th>20875</th>\n",
              "      <td>0.0</td>\n",
              "      <td>1.0</td>\n",
              "      <td>1.0</td>\n",
              "      <td>1 private bath</td>\n",
              "    </tr>\n",
              "    <tr>\n",
              "      <th>20876</th>\n",
              "      <td>0.0</td>\n",
              "      <td>1.0</td>\n",
              "      <td>1.0</td>\n",
              "      <td>NaN</td>\n",
              "    </tr>\n",
              "    <tr>\n",
              "      <th>20877</th>\n",
              "      <td>0.0</td>\n",
              "      <td>1.0</td>\n",
              "      <td>1.0</td>\n",
              "      <td>1 bath</td>\n",
              "    </tr>\n",
              "    <tr>\n",
              "      <th>20878</th>\n",
              "      <td>0.0</td>\n",
              "      <td>1.0</td>\n",
              "      <td>1.0</td>\n",
              "      <td>2 baths</td>\n",
              "    </tr>\n",
              "    <tr>\n",
              "      <th>20879</th>\n",
              "      <td>0.0</td>\n",
              "      <td>1.0</td>\n",
              "      <td>1.0</td>\n",
              "      <td>1.5 baths</td>\n",
              "    </tr>\n",
              "  </tbody>\n",
              "</table>\n",
              "<p>125798 rows × 4 columns</p>\n",
              "</div>\n",
              "      <button class=\"colab-df-convert\" onclick=\"convertToInteractive('df-37890b89-7eeb-470a-8ae8-efe4d2f6b1d2')\"\n",
              "              title=\"Convert this dataframe to an interactive table.\"\n",
              "              style=\"display:none;\">\n",
              "        \n",
              "  <svg xmlns=\"http://www.w3.org/2000/svg\" height=\"24px\"viewBox=\"0 0 24 24\"\n",
              "       width=\"24px\">\n",
              "    <path d=\"M0 0h24v24H0V0z\" fill=\"none\"/>\n",
              "    <path d=\"M18.56 5.44l.94 2.06.94-2.06 2.06-.94-2.06-.94-.94-2.06-.94 2.06-2.06.94zm-11 1L8.5 8.5l.94-2.06 2.06-.94-2.06-.94L8.5 2.5l-.94 2.06-2.06.94zm10 10l.94 2.06.94-2.06 2.06-.94-2.06-.94-.94-2.06-.94 2.06-2.06.94z\"/><path d=\"M17.41 7.96l-1.37-1.37c-.4-.4-.92-.59-1.43-.59-.52 0-1.04.2-1.43.59L10.3 9.45l-7.72 7.72c-.78.78-.78 2.05 0 2.83L4 21.41c.39.39.9.59 1.41.59.51 0 1.02-.2 1.41-.59l7.78-7.78 2.81-2.81c.8-.78.8-2.07 0-2.86zM5.41 20L4 18.59l7.72-7.72 1.47 1.35L5.41 20z\"/>\n",
              "  </svg>\n",
              "      </button>\n",
              "      \n",
              "  <style>\n",
              "    .colab-df-container {\n",
              "      display:flex;\n",
              "      flex-wrap:wrap;\n",
              "      gap: 12px;\n",
              "    }\n",
              "\n",
              "    .colab-df-convert {\n",
              "      background-color: #E8F0FE;\n",
              "      border: none;\n",
              "      border-radius: 50%;\n",
              "      cursor: pointer;\n",
              "      display: none;\n",
              "      fill: #1967D2;\n",
              "      height: 32px;\n",
              "      padding: 0 0 0 0;\n",
              "      width: 32px;\n",
              "    }\n",
              "\n",
              "    .colab-df-convert:hover {\n",
              "      background-color: #E2EBFA;\n",
              "      box-shadow: 0px 1px 2px rgba(60, 64, 67, 0.3), 0px 1px 3px 1px rgba(60, 64, 67, 0.15);\n",
              "      fill: #174EA6;\n",
              "    }\n",
              "\n",
              "    [theme=dark] .colab-df-convert {\n",
              "      background-color: #3B4455;\n",
              "      fill: #D2E3FC;\n",
              "    }\n",
              "\n",
              "    [theme=dark] .colab-df-convert:hover {\n",
              "      background-color: #434B5C;\n",
              "      box-shadow: 0px 1px 3px 1px rgba(0, 0, 0, 0.15);\n",
              "      filter: drop-shadow(0px 1px 2px rgba(0, 0, 0, 0.3));\n",
              "      fill: #FFFFFF;\n",
              "    }\n",
              "  </style>\n",
              "\n",
              "      <script>\n",
              "        const buttonEl =\n",
              "          document.querySelector('#df-37890b89-7eeb-470a-8ae8-efe4d2f6b1d2 button.colab-df-convert');\n",
              "        buttonEl.style.display =\n",
              "          google.colab.kernel.accessAllowed ? 'block' : 'none';\n",
              "\n",
              "        async function convertToInteractive(key) {\n",
              "          const element = document.querySelector('#df-37890b89-7eeb-470a-8ae8-efe4d2f6b1d2');\n",
              "          const dataTable =\n",
              "            await google.colab.kernel.invokeFunction('convertToInteractive',\n",
              "                                                     [key], {});\n",
              "          if (!dataTable) return;\n",
              "\n",
              "          const docLinkHtml = 'Like what you see? Visit the ' +\n",
              "            '<a target=\"_blank\" href=https://colab.research.google.com/notebooks/data_table.ipynb>data table notebook</a>'\n",
              "            + ' to learn more about interactive tables.';\n",
              "          element.innerHTML = '';\n",
              "          dataTable['output_type'] = 'display_data';\n",
              "          await google.colab.output.renderOutput(dataTable, element);\n",
              "          const docLink = document.createElement('div');\n",
              "          docLink.innerHTML = docLinkHtml;\n",
              "          element.appendChild(docLink);\n",
              "        }\n",
              "      </script>\n",
              "    </div>\n",
              "  </div>\n",
              "  "
            ]
          },
          "metadata": {},
          "execution_count": 26
        }
      ]
    },
    {
      "cell_type": "markdown",
      "source": [
        "Bathroom_text"
      ],
      "metadata": {
        "id": "sjkOFGwdOunm"
      }
    },
    {
      "cell_type": "code",
      "source": [
        "listings.bathrooms_text"
      ],
      "metadata": {
        "colab": {
          "base_uri": "https://localhost:8080/"
        },
        "id": "SpS9doSVOXsU",
        "outputId": "394c4117-913b-46ad-f909-a87919c2af7f"
      },
      "execution_count": null,
      "outputs": [
        {
          "output_type": "execute_result",
          "data": {
            "text/plain": [
              "0                1 bath\n",
              "1                1 bath\n",
              "2                   NaN\n",
              "3             1.5 baths\n",
              "4                1 bath\n",
              "              ...      \n",
              "20875    1 private bath\n",
              "20876               NaN\n",
              "20877            1 bath\n",
              "20878           2 baths\n",
              "20879         1.5 baths\n",
              "Name: bathrooms_text, Length: 125798, dtype: object"
            ]
          },
          "metadata": {},
          "execution_count": 27
        }
      ]
    },
    {
      "cell_type": "code",
      "source": [
        "#extracted bath numbers from bathrooms_text \n",
        "listings[\"bath\"] = listings[\"bathrooms_text\"].str.extract(\"(\\d*\\.?\\d+)\", expand=True)"
      ],
      "metadata": {
        "id": "0VeIqcdCObUl"
      },
      "execution_count": null,
      "outputs": []
    },
    {
      "cell_type": "code",
      "source": [
        "#drop bathroom_text\n",
        "listings = listings.drop(columns=['bathrooms_text'])"
      ],
      "metadata": {
        "id": "s2DNfJT0ObW8"
      },
      "execution_count": null,
      "outputs": []
    },
    {
      "cell_type": "code",
      "source": [
        "#converting bath from integer to float\n",
        "listings['bath'] = listings['bath'].astype(float)"
      ],
      "metadata": {
        "id": "tPGG5bDHObZY"
      },
      "execution_count": null,
      "outputs": []
    },
    {
      "cell_type": "code",
      "source": [
        "listings.bath"
      ],
      "metadata": {
        "colab": {
          "base_uri": "https://localhost:8080/"
        },
        "id": "XuMOAcE9OtW1",
        "outputId": "3ddd11cf-e3ae-4918-a92c-6fcb118a24c0"
      },
      "execution_count": null,
      "outputs": [
        {
          "output_type": "execute_result",
          "data": {
            "text/plain": [
              "0        1.0\n",
              "1        1.0\n",
              "2        NaN\n",
              "3        1.5\n",
              "4        1.0\n",
              "        ... \n",
              "20875    1.0\n",
              "20876    NaN\n",
              "20877    1.0\n",
              "20878    2.0\n",
              "20879    1.5\n",
              "Name: bath, Length: 125798, dtype: float64"
            ]
          },
          "metadata": {},
          "execution_count": 31
        }
      ]
    },
    {
      "cell_type": "code",
      "source": [
        "listings.isnull().sum()"
      ],
      "metadata": {
        "colab": {
          "base_uri": "https://localhost:8080/"
        },
        "id": "WX7h3WSoOtZS",
        "outputId": "e8effc84-e481-4e93-c8f7-05a3aa756c58"
      },
      "execution_count": null,
      "outputs": [
        {
          "output_type": "execute_result",
          "data": {
            "text/plain": [
              "description                                     4290\n",
              "Cities                                             0\n",
              "host_since                                        96\n",
              "host_is_superhost                                 96\n",
              "host_total_listings_count                          0\n",
              "host_verifications                                 0\n",
              "host_has_profile_pic                              96\n",
              "host_identity_verified                            96\n",
              "neighbourhood_cleansed                             0\n",
              "latitude                                           0\n",
              "longitude                                          0\n",
              "property_type                                      0\n",
              "room_type                                          0\n",
              "accommodates                                       0\n",
              "beds                                               0\n",
              "amenities                                          0\n",
              "price                                              0\n",
              "minimum_nights                                     0\n",
              "maximum_nights                                     0\n",
              "minimum_nights_avg_ntm                             0\n",
              "maximum_nights_avg_ntm                             0\n",
              "has_availability                                   0\n",
              "availability_365                                   0\n",
              "number_of_reviews                                  0\n",
              "number_of_reviews_ltm                              0\n",
              "instant_bookable                                   0\n",
              "calculated_host_listings_count                     0\n",
              "calculated_host_listings_count_entire_homes        0\n",
              "calculated_host_listings_count_private_rooms       0\n",
              "calculated_host_listings_count_shared_rooms        0\n",
              "bath                                             791\n",
              "dtype: int64"
            ]
          },
          "metadata": {},
          "execution_count": 32
        }
      ]
    },
    {
      "cell_type": "code",
      "source": [
        "categorical_col = ['host_is_superhost','host_identity_verified', 'host_has_profile_pic', 'bath']\n",
        "\n",
        "listings[categorical_col].head()"
      ],
      "metadata": {
        "colab": {
          "base_uri": "https://localhost:8080/",
          "height": 206
        },
        "id": "LgNIt_6xOXv9",
        "outputId": "dbfc33bf-416b-4c78-a742-536ced5f0934"
      },
      "execution_count": null,
      "outputs": [
        {
          "output_type": "execute_result",
          "data": {
            "text/plain": [
              "   host_is_superhost  host_identity_verified  host_has_profile_pic  bath\n",
              "0                0.0                     1.0                   1.0   1.0\n",
              "1                0.0                     1.0                   1.0   1.0\n",
              "2                0.0                     1.0                   1.0   NaN\n",
              "3                0.0                     1.0                   1.0   1.5\n",
              "4                0.0                     0.0                   1.0   1.0"
            ],
            "text/html": [
              "\n",
              "  <div id=\"df-454de334-f55f-48b1-a5b8-f417a01e8512\">\n",
              "    <div class=\"colab-df-container\">\n",
              "      <div>\n",
              "<style scoped>\n",
              "    .dataframe tbody tr th:only-of-type {\n",
              "        vertical-align: middle;\n",
              "    }\n",
              "\n",
              "    .dataframe tbody tr th {\n",
              "        vertical-align: top;\n",
              "    }\n",
              "\n",
              "    .dataframe thead th {\n",
              "        text-align: right;\n",
              "    }\n",
              "</style>\n",
              "<table border=\"1\" class=\"dataframe\">\n",
              "  <thead>\n",
              "    <tr style=\"text-align: right;\">\n",
              "      <th></th>\n",
              "      <th>host_is_superhost</th>\n",
              "      <th>host_identity_verified</th>\n",
              "      <th>host_has_profile_pic</th>\n",
              "      <th>bath</th>\n",
              "    </tr>\n",
              "  </thead>\n",
              "  <tbody>\n",
              "    <tr>\n",
              "      <th>0</th>\n",
              "      <td>0.0</td>\n",
              "      <td>1.0</td>\n",
              "      <td>1.0</td>\n",
              "      <td>1.0</td>\n",
              "    </tr>\n",
              "    <tr>\n",
              "      <th>1</th>\n",
              "      <td>0.0</td>\n",
              "      <td>1.0</td>\n",
              "      <td>1.0</td>\n",
              "      <td>1.0</td>\n",
              "    </tr>\n",
              "    <tr>\n",
              "      <th>2</th>\n",
              "      <td>0.0</td>\n",
              "      <td>1.0</td>\n",
              "      <td>1.0</td>\n",
              "      <td>NaN</td>\n",
              "    </tr>\n",
              "    <tr>\n",
              "      <th>3</th>\n",
              "      <td>0.0</td>\n",
              "      <td>1.0</td>\n",
              "      <td>1.0</td>\n",
              "      <td>1.5</td>\n",
              "    </tr>\n",
              "    <tr>\n",
              "      <th>4</th>\n",
              "      <td>0.0</td>\n",
              "      <td>0.0</td>\n",
              "      <td>1.0</td>\n",
              "      <td>1.0</td>\n",
              "    </tr>\n",
              "  </tbody>\n",
              "</table>\n",
              "</div>\n",
              "      <button class=\"colab-df-convert\" onclick=\"convertToInteractive('df-454de334-f55f-48b1-a5b8-f417a01e8512')\"\n",
              "              title=\"Convert this dataframe to an interactive table.\"\n",
              "              style=\"display:none;\">\n",
              "        \n",
              "  <svg xmlns=\"http://www.w3.org/2000/svg\" height=\"24px\"viewBox=\"0 0 24 24\"\n",
              "       width=\"24px\">\n",
              "    <path d=\"M0 0h24v24H0V0z\" fill=\"none\"/>\n",
              "    <path d=\"M18.56 5.44l.94 2.06.94-2.06 2.06-.94-2.06-.94-.94-2.06-.94 2.06-2.06.94zm-11 1L8.5 8.5l.94-2.06 2.06-.94-2.06-.94L8.5 2.5l-.94 2.06-2.06.94zm10 10l.94 2.06.94-2.06 2.06-.94-2.06-.94-.94-2.06-.94 2.06-2.06.94z\"/><path d=\"M17.41 7.96l-1.37-1.37c-.4-.4-.92-.59-1.43-.59-.52 0-1.04.2-1.43.59L10.3 9.45l-7.72 7.72c-.78.78-.78 2.05 0 2.83L4 21.41c.39.39.9.59 1.41.59.51 0 1.02-.2 1.41-.59l7.78-7.78 2.81-2.81c.8-.78.8-2.07 0-2.86zM5.41 20L4 18.59l7.72-7.72 1.47 1.35L5.41 20z\"/>\n",
              "  </svg>\n",
              "      </button>\n",
              "      \n",
              "  <style>\n",
              "    .colab-df-container {\n",
              "      display:flex;\n",
              "      flex-wrap:wrap;\n",
              "      gap: 12px;\n",
              "    }\n",
              "\n",
              "    .colab-df-convert {\n",
              "      background-color: #E8F0FE;\n",
              "      border: none;\n",
              "      border-radius: 50%;\n",
              "      cursor: pointer;\n",
              "      display: none;\n",
              "      fill: #1967D2;\n",
              "      height: 32px;\n",
              "      padding: 0 0 0 0;\n",
              "      width: 32px;\n",
              "    }\n",
              "\n",
              "    .colab-df-convert:hover {\n",
              "      background-color: #E2EBFA;\n",
              "      box-shadow: 0px 1px 2px rgba(60, 64, 67, 0.3), 0px 1px 3px 1px rgba(60, 64, 67, 0.15);\n",
              "      fill: #174EA6;\n",
              "    }\n",
              "\n",
              "    [theme=dark] .colab-df-convert {\n",
              "      background-color: #3B4455;\n",
              "      fill: #D2E3FC;\n",
              "    }\n",
              "\n",
              "    [theme=dark] .colab-df-convert:hover {\n",
              "      background-color: #434B5C;\n",
              "      box-shadow: 0px 1px 3px 1px rgba(0, 0, 0, 0.15);\n",
              "      filter: drop-shadow(0px 1px 2px rgba(0, 0, 0, 0.3));\n",
              "      fill: #FFFFFF;\n",
              "    }\n",
              "  </style>\n",
              "\n",
              "      <script>\n",
              "        const buttonEl =\n",
              "          document.querySelector('#df-454de334-f55f-48b1-a5b8-f417a01e8512 button.colab-df-convert');\n",
              "        buttonEl.style.display =\n",
              "          google.colab.kernel.accessAllowed ? 'block' : 'none';\n",
              "\n",
              "        async function convertToInteractive(key) {\n",
              "          const element = document.querySelector('#df-454de334-f55f-48b1-a5b8-f417a01e8512');\n",
              "          const dataTable =\n",
              "            await google.colab.kernel.invokeFunction('convertToInteractive',\n",
              "                                                     [key], {});\n",
              "          if (!dataTable) return;\n",
              "\n",
              "          const docLinkHtml = 'Like what you see? Visit the ' +\n",
              "            '<a target=\"_blank\" href=https://colab.research.google.com/notebooks/data_table.ipynb>data table notebook</a>'\n",
              "            + ' to learn more about interactive tables.';\n",
              "          element.innerHTML = '';\n",
              "          dataTable['output_type'] = 'display_data';\n",
              "          await google.colab.output.renderOutput(dataTable, element);\n",
              "          const docLink = document.createElement('div');\n",
              "          docLink.innerHTML = docLinkHtml;\n",
              "          element.appendChild(docLink);\n",
              "        }\n",
              "      </script>\n",
              "    </div>\n",
              "  </div>\n",
              "  "
            ]
          },
          "metadata": {},
          "execution_count": 33
        }
      ]
    },
    {
      "cell_type": "code",
      "source": [
        "# initiate the imputer \n",
        "\n",
        "imputer2 = SimpleImputer(strategy = 'most_frequent')\n",
        "\n",
        "data = imputer2.fit_transform(listings[categorical_col])\n",
        "\n",
        "# transform the array back to DataFrame \n",
        "\n",
        "listings[categorical_col] = pd.DataFrame(data, columns = categorical_col)"
      ],
      "metadata": {
        "id": "UkbxLNb4pr40"
      },
      "execution_count": null,
      "outputs": []
    },
    {
      "cell_type": "code",
      "source": [
        "listings.isnull().sum().sort_values(ascending=False)"
      ],
      "metadata": {
        "colab": {
          "base_uri": "https://localhost:8080/"
        },
        "id": "8matJPDEtGlk",
        "outputId": "461d8c6f-648b-4c96-ff28-4238ac26f2ac"
      },
      "execution_count": null,
      "outputs": [
        {
          "output_type": "execute_result",
          "data": {
            "text/plain": [
              "description                                     4290\n",
              "host_since                                        96\n",
              "price                                              0\n",
              "calculated_host_listings_count_shared_rooms        0\n",
              "calculated_host_listings_count_private_rooms       0\n",
              "calculated_host_listings_count_entire_homes        0\n",
              "calculated_host_listings_count                     0\n",
              "instant_bookable                                   0\n",
              "number_of_reviews_ltm                              0\n",
              "number_of_reviews                                  0\n",
              "availability_365                                   0\n",
              "has_availability                                   0\n",
              "maximum_nights_avg_ntm                             0\n",
              "minimum_nights_avg_ntm                             0\n",
              "maximum_nights                                     0\n",
              "minimum_nights                                     0\n",
              "amenities                                          0\n",
              "Cities                                             0\n",
              "beds                                               0\n",
              "accommodates                                       0\n",
              "room_type                                          0\n",
              "property_type                                      0\n",
              "longitude                                          0\n",
              "latitude                                           0\n",
              "neighbourhood_cleansed                             0\n",
              "host_identity_verified                             0\n",
              "host_has_profile_pic                               0\n",
              "host_verifications                                 0\n",
              "host_total_listings_count                          0\n",
              "host_is_superhost                                  0\n",
              "bath                                               0\n",
              "dtype: int64"
            ]
          },
          "metadata": {},
          "execution_count": 35
        }
      ]
    },
    {
      "cell_type": "markdown",
      "source": [
        "#Creating new dataframe from description, host_since, amenities and price"
      ],
      "metadata": {
        "id": "h-mw5tCFtxR3"
      }
    },
    {
      "cell_type": "code",
      "source": [
        "description = listings[['description','host_since','amenities', 'host_verifications', 'price']].copy()      # Extract selected columns\n",
        "print(description)    "
      ],
      "metadata": {
        "colab": {
          "base_uri": "https://localhost:8080/"
        },
        "id": "euLzlhrZtMrJ",
        "outputId": "0a265815-2a04-4ed0-d742-537673cf278c"
      },
      "execution_count": null,
      "outputs": [
        {
          "output_type": "stream",
          "name": "stdout",
          "text": [
            "                                             description  host_since  \\\n",
            "0      Beautiful, spacious skylit studio in the heart...  2008-09-09   \n",
            "1      Enjoy 500 s.f. top floor in 1899 brownstone, w...  2008-12-07   \n",
            "2      <b>The space</b><br />HELLO EVERYONE AND THANK...  2009-02-03   \n",
            "3      We welcome you to stay in our lovely 2 br dupl...  2009-02-03   \n",
            "4      Please don’t expect the luxury here just a bas...  2009-03-03   \n",
            "...                                                  ...         ...   \n",
            "20875          <b>License number</b><br />PID-STRA-25452  2018-03-11   \n",
            "20876          <b>License number</b><br />PID-STRA-25452  2018-03-11   \n",
            "20877  This modern 1 bedroom 1 bathroom apartment is ...  2021-06-08   \n",
            "20878  This beautiful townhouse style split-level apa...  2016-11-06   \n",
            "20879  Close to the Pacific Highway, only 700m walk t...  2021-06-23   \n",
            "\n",
            "                                               amenities  \\\n",
            "0      [\"Extra pillows and blankets\", \"Baking sheet\",...   \n",
            "1      [\"Extra pillows and blankets\", \"Luggage dropof...   \n",
            "2      [\"Kitchen\", \"Long term stays allowed\", \"Wifi\",...   \n",
            "3      [\"Kitchen\", \"BBQ grill\", \"Cable TV\", \"Carbon m...   \n",
            "4      [\"Room-darkening shades\", \"Lock on bedroom doo...   \n",
            "...                                                  ...   \n",
            "20875  [\"TV\", \"Hot water\", \"Long term stays allowed\",...   \n",
            "20876  [\"TV\", \"Hot water\", \"Long term stays allowed\",...   \n",
            "20877  [\"Hot water\", \"Long term stays allowed\", \"Heat...   \n",
            "20878  [\"Elevator\", \"TV\", \"Washer\", \"Long term stays ...   \n",
            "20879  [\"Toaster\", \"Long term stays allowed\", \"Dining...   \n",
            "\n",
            "                                      host_verifications  price  \n",
            "0      ['email', 'phone', 'reviews', 'offline_governm...  150.0  \n",
            "1      ['email', 'phone', 'reviews', 'offline_governm...   75.0  \n",
            "2      ['email', 'phone', 'facebook', 'reviews', 'off...   60.0  \n",
            "3                          ['email', 'phone', 'reviews']  275.0  \n",
            "4              ['email', 'phone', 'facebook', 'reviews']   68.0  \n",
            "...                                                  ...    ...  \n",
            "20875  ['email', 'phone', 'jumio', 'offline_governmen...   79.0  \n",
            "20876  ['email', 'phone', 'jumio', 'offline_governmen...   80.0  \n",
            "20877                                 ['email', 'phone']  150.0  \n",
            "20878                      ['email', 'phone', 'reviews']  169.0  \n",
            "20879                                 ['email', 'phone']  254.0  \n",
            "\n",
            "[125798 rows x 5 columns]\n"
          ]
        }
      ]
    },
    {
      "cell_type": "code",
      "source": [
        "listings = listings.drop(columns=['description', 'host_since','host_verifications', 'amenities'])"
      ],
      "metadata": {
        "id": "cICuIKxRuYYn"
      },
      "execution_count": null,
      "outputs": []
    },
    {
      "cell_type": "code",
      "source": [
        "#listings.bathrooms_text"
      ],
      "metadata": {
        "id": "er8ULMs2vimr"
      },
      "execution_count": null,
      "outputs": []
    },
    {
      "cell_type": "code",
      "source": [
        "#extracted bath numbers from bathrooms_text \n",
        "#listings[\"bath\"] = listings[\"bathrooms_text\"].str.extract(\"(\\d*\\.?\\d+)\", expand=True)"
      ],
      "metadata": {
        "id": "78d-myCvw9QG"
      },
      "execution_count": null,
      "outputs": []
    },
    {
      "cell_type": "code",
      "source": [
        "#drop bathroom_text\n",
        "#listings = listings.drop(columns=['bathrooms_text'])"
      ],
      "metadata": {
        "id": "LTdiXVpfz8cB"
      },
      "execution_count": null,
      "outputs": []
    },
    {
      "cell_type": "code",
      "source": [
        "#listings.bath"
      ],
      "metadata": {
        "id": "Y-vsqWZHzjo7"
      },
      "execution_count": null,
      "outputs": []
    },
    {
      "cell_type": "code",
      "source": [
        "#converting bath from integer to float\n",
        "#listings['bath'] = listings['bath'].astype(float)"
      ],
      "metadata": {
        "id": "r8I7hCdo1KxM"
      },
      "execution_count": null,
      "outputs": []
    },
    {
      "cell_type": "code",
      "source": [
        "#listings.bath"
      ],
      "metadata": {
        "id": "_ZuJFpDz1Rgj"
      },
      "execution_count": null,
      "outputs": []
    },
    {
      "cell_type": "code",
      "source": [
        "#listings.isnull().sum()"
      ],
      "metadata": {
        "id": "O4U15mn6OFoW"
      },
      "execution_count": null,
      "outputs": []
    },
    {
      "cell_type": "markdown",
      "source": [
        "Encoding for categorical variables"
      ],
      "metadata": {
        "id": "HUPSak7i16Wl"
      }
    },
    {
      "cell_type": "code",
      "source": [
        "df_num = listings.select_dtypes(exclude=[np.number])\n",
        "df_num"
      ],
      "metadata": {
        "colab": {
          "base_uri": "https://localhost:8080/",
          "height": 423
        },
        "id": "teBFm0HB2Bm1",
        "outputId": "ccfa38d7-f76f-467c-aa55-64bafc1504c0"
      },
      "execution_count": null,
      "outputs": [
        {
          "output_type": "execute_result",
          "data": {
            "text/plain": [
              "         Cities neighbourhood_cleansed                     property_type  \\\n",
              "0      New York                Midtown                Entire rental unit   \n",
              "1      New York     Bedford-Stuyvesant                Entire guest suite   \n",
              "2      New York     Bedford-Stuyvesant       Private room in rental unit   \n",
              "3      New York            Sunset Park                Entire rental unit   \n",
              "4      New York                Midtown       Private room in rental unit   \n",
              "...         ...                    ...                               ...   \n",
              "20875    Sydney             Botany Bay  Private room in residential home   \n",
              "20876    Sydney             Botany Bay  Private room in residential home   \n",
              "20877    Sydney                   Ryde                Entire rental unit   \n",
              "20878    Sydney             Botany Bay                Entire rental unit   \n",
              "20879    Sydney            Ku-Ring-Gai           Entire residential home   \n",
              "\n",
              "             room_type has_availability instant_bookable  \n",
              "0      Entire home/apt                t                f  \n",
              "1      Entire home/apt                t                f  \n",
              "2         Private room                t                f  \n",
              "3      Entire home/apt                t                f  \n",
              "4         Private room                t                f  \n",
              "...                ...              ...              ...  \n",
              "20875     Private room                t                t  \n",
              "20876     Private room                t                t  \n",
              "20877  Entire home/apt                t                f  \n",
              "20878  Entire home/apt                t                f  \n",
              "20879  Entire home/apt                t                t  \n",
              "\n",
              "[125798 rows x 6 columns]"
            ],
            "text/html": [
              "\n",
              "  <div id=\"df-f0984e49-b8b3-4fa3-8ddc-6bc632dd382f\">\n",
              "    <div class=\"colab-df-container\">\n",
              "      <div>\n",
              "<style scoped>\n",
              "    .dataframe tbody tr th:only-of-type {\n",
              "        vertical-align: middle;\n",
              "    }\n",
              "\n",
              "    .dataframe tbody tr th {\n",
              "        vertical-align: top;\n",
              "    }\n",
              "\n",
              "    .dataframe thead th {\n",
              "        text-align: right;\n",
              "    }\n",
              "</style>\n",
              "<table border=\"1\" class=\"dataframe\">\n",
              "  <thead>\n",
              "    <tr style=\"text-align: right;\">\n",
              "      <th></th>\n",
              "      <th>Cities</th>\n",
              "      <th>neighbourhood_cleansed</th>\n",
              "      <th>property_type</th>\n",
              "      <th>room_type</th>\n",
              "      <th>has_availability</th>\n",
              "      <th>instant_bookable</th>\n",
              "    </tr>\n",
              "  </thead>\n",
              "  <tbody>\n",
              "    <tr>\n",
              "      <th>0</th>\n",
              "      <td>New York</td>\n",
              "      <td>Midtown</td>\n",
              "      <td>Entire rental unit</td>\n",
              "      <td>Entire home/apt</td>\n",
              "      <td>t</td>\n",
              "      <td>f</td>\n",
              "    </tr>\n",
              "    <tr>\n",
              "      <th>1</th>\n",
              "      <td>New York</td>\n",
              "      <td>Bedford-Stuyvesant</td>\n",
              "      <td>Entire guest suite</td>\n",
              "      <td>Entire home/apt</td>\n",
              "      <td>t</td>\n",
              "      <td>f</td>\n",
              "    </tr>\n",
              "    <tr>\n",
              "      <th>2</th>\n",
              "      <td>New York</td>\n",
              "      <td>Bedford-Stuyvesant</td>\n",
              "      <td>Private room in rental unit</td>\n",
              "      <td>Private room</td>\n",
              "      <td>t</td>\n",
              "      <td>f</td>\n",
              "    </tr>\n",
              "    <tr>\n",
              "      <th>3</th>\n",
              "      <td>New York</td>\n",
              "      <td>Sunset Park</td>\n",
              "      <td>Entire rental unit</td>\n",
              "      <td>Entire home/apt</td>\n",
              "      <td>t</td>\n",
              "      <td>f</td>\n",
              "    </tr>\n",
              "    <tr>\n",
              "      <th>4</th>\n",
              "      <td>New York</td>\n",
              "      <td>Midtown</td>\n",
              "      <td>Private room in rental unit</td>\n",
              "      <td>Private room</td>\n",
              "      <td>t</td>\n",
              "      <td>f</td>\n",
              "    </tr>\n",
              "    <tr>\n",
              "      <th>...</th>\n",
              "      <td>...</td>\n",
              "      <td>...</td>\n",
              "      <td>...</td>\n",
              "      <td>...</td>\n",
              "      <td>...</td>\n",
              "      <td>...</td>\n",
              "    </tr>\n",
              "    <tr>\n",
              "      <th>20875</th>\n",
              "      <td>Sydney</td>\n",
              "      <td>Botany Bay</td>\n",
              "      <td>Private room in residential home</td>\n",
              "      <td>Private room</td>\n",
              "      <td>t</td>\n",
              "      <td>t</td>\n",
              "    </tr>\n",
              "    <tr>\n",
              "      <th>20876</th>\n",
              "      <td>Sydney</td>\n",
              "      <td>Botany Bay</td>\n",
              "      <td>Private room in residential home</td>\n",
              "      <td>Private room</td>\n",
              "      <td>t</td>\n",
              "      <td>t</td>\n",
              "    </tr>\n",
              "    <tr>\n",
              "      <th>20877</th>\n",
              "      <td>Sydney</td>\n",
              "      <td>Ryde</td>\n",
              "      <td>Entire rental unit</td>\n",
              "      <td>Entire home/apt</td>\n",
              "      <td>t</td>\n",
              "      <td>f</td>\n",
              "    </tr>\n",
              "    <tr>\n",
              "      <th>20878</th>\n",
              "      <td>Sydney</td>\n",
              "      <td>Botany Bay</td>\n",
              "      <td>Entire rental unit</td>\n",
              "      <td>Entire home/apt</td>\n",
              "      <td>t</td>\n",
              "      <td>f</td>\n",
              "    </tr>\n",
              "    <tr>\n",
              "      <th>20879</th>\n",
              "      <td>Sydney</td>\n",
              "      <td>Ku-Ring-Gai</td>\n",
              "      <td>Entire residential home</td>\n",
              "      <td>Entire home/apt</td>\n",
              "      <td>t</td>\n",
              "      <td>t</td>\n",
              "    </tr>\n",
              "  </tbody>\n",
              "</table>\n",
              "<p>125798 rows × 6 columns</p>\n",
              "</div>\n",
              "      <button class=\"colab-df-convert\" onclick=\"convertToInteractive('df-f0984e49-b8b3-4fa3-8ddc-6bc632dd382f')\"\n",
              "              title=\"Convert this dataframe to an interactive table.\"\n",
              "              style=\"display:none;\">\n",
              "        \n",
              "  <svg xmlns=\"http://www.w3.org/2000/svg\" height=\"24px\"viewBox=\"0 0 24 24\"\n",
              "       width=\"24px\">\n",
              "    <path d=\"M0 0h24v24H0V0z\" fill=\"none\"/>\n",
              "    <path d=\"M18.56 5.44l.94 2.06.94-2.06 2.06-.94-2.06-.94-.94-2.06-.94 2.06-2.06.94zm-11 1L8.5 8.5l.94-2.06 2.06-.94-2.06-.94L8.5 2.5l-.94 2.06-2.06.94zm10 10l.94 2.06.94-2.06 2.06-.94-2.06-.94-.94-2.06-.94 2.06-2.06.94z\"/><path d=\"M17.41 7.96l-1.37-1.37c-.4-.4-.92-.59-1.43-.59-.52 0-1.04.2-1.43.59L10.3 9.45l-7.72 7.72c-.78.78-.78 2.05 0 2.83L4 21.41c.39.39.9.59 1.41.59.51 0 1.02-.2 1.41-.59l7.78-7.78 2.81-2.81c.8-.78.8-2.07 0-2.86zM5.41 20L4 18.59l7.72-7.72 1.47 1.35L5.41 20z\"/>\n",
              "  </svg>\n",
              "      </button>\n",
              "      \n",
              "  <style>\n",
              "    .colab-df-container {\n",
              "      display:flex;\n",
              "      flex-wrap:wrap;\n",
              "      gap: 12px;\n",
              "    }\n",
              "\n",
              "    .colab-df-convert {\n",
              "      background-color: #E8F0FE;\n",
              "      border: none;\n",
              "      border-radius: 50%;\n",
              "      cursor: pointer;\n",
              "      display: none;\n",
              "      fill: #1967D2;\n",
              "      height: 32px;\n",
              "      padding: 0 0 0 0;\n",
              "      width: 32px;\n",
              "    }\n",
              "\n",
              "    .colab-df-convert:hover {\n",
              "      background-color: #E2EBFA;\n",
              "      box-shadow: 0px 1px 2px rgba(60, 64, 67, 0.3), 0px 1px 3px 1px rgba(60, 64, 67, 0.15);\n",
              "      fill: #174EA6;\n",
              "    }\n",
              "\n",
              "    [theme=dark] .colab-df-convert {\n",
              "      background-color: #3B4455;\n",
              "      fill: #D2E3FC;\n",
              "    }\n",
              "\n",
              "    [theme=dark] .colab-df-convert:hover {\n",
              "      background-color: #434B5C;\n",
              "      box-shadow: 0px 1px 3px 1px rgba(0, 0, 0, 0.15);\n",
              "      filter: drop-shadow(0px 1px 2px rgba(0, 0, 0, 0.3));\n",
              "      fill: #FFFFFF;\n",
              "    }\n",
              "  </style>\n",
              "\n",
              "      <script>\n",
              "        const buttonEl =\n",
              "          document.querySelector('#df-f0984e49-b8b3-4fa3-8ddc-6bc632dd382f button.colab-df-convert');\n",
              "        buttonEl.style.display =\n",
              "          google.colab.kernel.accessAllowed ? 'block' : 'none';\n",
              "\n",
              "        async function convertToInteractive(key) {\n",
              "          const element = document.querySelector('#df-f0984e49-b8b3-4fa3-8ddc-6bc632dd382f');\n",
              "          const dataTable =\n",
              "            await google.colab.kernel.invokeFunction('convertToInteractive',\n",
              "                                                     [key], {});\n",
              "          if (!dataTable) return;\n",
              "\n",
              "          const docLinkHtml = 'Like what you see? Visit the ' +\n",
              "            '<a target=\"_blank\" href=https://colab.research.google.com/notebooks/data_table.ipynb>data table notebook</a>'\n",
              "            + ' to learn more about interactive tables.';\n",
              "          element.innerHTML = '';\n",
              "          dataTable['output_type'] = 'display_data';\n",
              "          await google.colab.output.renderOutput(dataTable, element);\n",
              "          const docLink = document.createElement('div');\n",
              "          docLink.innerHTML = docLinkHtml;\n",
              "          element.appendChild(docLink);\n",
              "        }\n",
              "      </script>\n",
              "    </div>\n",
              "  </div>\n",
              "  "
            ]
          },
          "metadata": {},
          "execution_count": 45
        }
      ]
    },
    {
      "cell_type": "code",
      "source": [
        "#Encoding cities \n",
        "Cities_dict = {'New York': 1, 'London': 2, 'Sydney': 3}\n",
        "listings.Cities.replace(Cities_dict, inplace=True)"
      ],
      "metadata": {
        "id": "79mPthJy6FSr"
      },
      "execution_count": null,
      "outputs": []
    },
    {
      "cell_type": "code",
      "source": [
        "listings.dtypes"
      ],
      "metadata": {
        "colab": {
          "base_uri": "https://localhost:8080/"
        },
        "id": "IxY6ITGd56ai",
        "outputId": "68878256-7cc3-4d2b-a681-11d8bcfaa249"
      },
      "execution_count": null,
      "outputs": [
        {
          "output_type": "execute_result",
          "data": {
            "text/plain": [
              "Cities                                            int64\n",
              "host_is_superhost                               float64\n",
              "host_total_listings_count                       float64\n",
              "host_has_profile_pic                            float64\n",
              "host_identity_verified                          float64\n",
              "neighbourhood_cleansed                           object\n",
              "latitude                                        float64\n",
              "longitude                                       float64\n",
              "property_type                                    object\n",
              "room_type                                        object\n",
              "accommodates                                      int64\n",
              "beds                                            float64\n",
              "price                                           float64\n",
              "minimum_nights                                    int64\n",
              "maximum_nights                                    int64\n",
              "minimum_nights_avg_ntm                          float64\n",
              "maximum_nights_avg_ntm                          float64\n",
              "has_availability                                 object\n",
              "availability_365                                  int64\n",
              "number_of_reviews                                 int64\n",
              "number_of_reviews_ltm                             int64\n",
              "instant_bookable                                 object\n",
              "calculated_host_listings_count                    int64\n",
              "calculated_host_listings_count_entire_homes       int64\n",
              "calculated_host_listings_count_private_rooms      int64\n",
              "calculated_host_listings_count_shared_rooms       int64\n",
              "bath                                            float64\n",
              "dtype: object"
            ]
          },
          "metadata": {},
          "execution_count": 47
        }
      ]
    },
    {
      "cell_type": "code",
      "source": [
        "# Encode binary outcomes \n",
        "binary_cols=['instant_bookable','has_availability']\n",
        "for col in binary_cols:\n",
        "    listings[col]  = listings[col].map({'t': 1, 'f': 0 })\n",
        "\n",
        "# Encode multi-categorical outcomes \n",
        "multi_cols=['neighbourhood_cleansed','property_type','room_type']\n",
        "listings =pd.get_dummies(data=listings, columns=multi_cols,drop_first=True)"
      ],
      "metadata": {
        "id": "2oloe-_w17KB"
      },
      "execution_count": null,
      "outputs": []
    },
    {
      "cell_type": "code",
      "source": [
        "#converting categorical column from object to float\n",
        "#listings['host_identity_verified'] = listings['host_identity_verified'].astype(float)\n",
        "#listings['host_is_superhost'] = listings['host_is_superhost'].astype(float)\n",
        "#listings['host_has_profile_pic'] = listings['host_has_profile_pic'].astype(float)\n",
        "#listings['instant_bookable'] = listings['instant_bookable'].astype(float)\n",
        "#listings['has_availability'] = listings['has_availability'].astype(float)"
      ],
      "metadata": {
        "id": "5mm4eF4S6dCu"
      },
      "execution_count": null,
      "outputs": []
    },
    {
      "cell_type": "code",
      "source": [
        "listings"
      ],
      "metadata": {
        "colab": {
          "base_uri": "https://localhost:8080/",
          "height": 505
        },
        "id": "YqB0wvOq17Ro",
        "outputId": "41413c8f-7986-40f8-cdbe-321d63ad35e4"
      },
      "execution_count": null,
      "outputs": [
        {
          "output_type": "execute_result",
          "data": {
            "text/plain": [
              "       Cities  host_is_superhost  host_total_listings_count  \\\n",
              "0           1                0.0                        8.0   \n",
              "1           1                0.0                        1.0   \n",
              "2           1                0.0                        1.0   \n",
              "3           1                0.0                        1.0   \n",
              "4           1                0.0                        1.0   \n",
              "...       ...                ...                        ...   \n",
              "20875       3                0.0                       13.0   \n",
              "20876       3                0.0                        7.0   \n",
              "20877       3                0.0                        7.0   \n",
              "20878       3                0.0                        7.0   \n",
              "20879       3                0.0                        7.0   \n",
              "\n",
              "       host_has_profile_pic  host_identity_verified   latitude   longitude  \\\n",
              "0                       1.0                     1.0  40.753560  -73.985590   \n",
              "1                       1.0                     1.0  40.684940  -73.957650   \n",
              "2                       1.0                     1.0  40.685350  -73.955120   \n",
              "3                       1.0                     1.0  40.662650  -73.994540   \n",
              "4                       1.0                     0.0  40.764570  -73.983170   \n",
              "...                     ...                     ...        ...         ...   \n",
              "20875                   1.0                     0.0 -33.930222  151.190360   \n",
              "20876                   1.0                     1.0 -33.929359  151.187843   \n",
              "20877                   1.0                     1.0 -33.781406  151.111693   \n",
              "20878                   1.0                     1.0 -33.921565  151.191030   \n",
              "20879                   1.0                     1.0 -33.737631  151.134933   \n",
              "\n",
              "       accommodates  beds  price  ...  property_type_Shared room in villa  \\\n",
              "0                 1   1.0  150.0  ...                                   0   \n",
              "1                 3   3.0   75.0  ...                                   0   \n",
              "2                 2   1.0   60.0  ...                                   0   \n",
              "3                 4   2.0  275.0  ...                                   0   \n",
              "4                 2   1.0   68.0  ...                                   0   \n",
              "...             ...   ...    ...  ...                                 ...   \n",
              "20875             2   1.0   79.0  ...                                   0   \n",
              "20876             2   1.0   80.0  ...                                   0   \n",
              "20877             2   1.0  150.0  ...                                   0   \n",
              "20878             4   1.0  169.0  ...                                   0   \n",
              "20879             8   1.0  254.0  ...                                   0   \n",
              "\n",
              "       property_type_Tent  property_type_Tiny house  property_type_Tower  \\\n",
              "0                       0                         0                    0   \n",
              "1                       0                         0                    0   \n",
              "2                       0                         0                    0   \n",
              "3                       0                         0                    0   \n",
              "4                       0                         0                    0   \n",
              "...                   ...                       ...                  ...   \n",
              "20875                   0                         0                    0   \n",
              "20876                   0                         0                    0   \n",
              "20877                   0                         0                    0   \n",
              "20878                   0                         0                    0   \n",
              "20879                   0                         0                    0   \n",
              "\n",
              "       property_type_Train  property_type_Treehouse  property_type_Yurt  \\\n",
              "0                        0                        0                   0   \n",
              "1                        0                        0                   0   \n",
              "2                        0                        0                   0   \n",
              "3                        0                        0                   0   \n",
              "4                        0                        0                   0   \n",
              "...                    ...                      ...                 ...   \n",
              "20875                    0                        0                   0   \n",
              "20876                    0                        0                   0   \n",
              "20877                    0                        0                   0   \n",
              "20878                    0                        0                   0   \n",
              "20879                    0                        0                   0   \n",
              "\n",
              "       room_type_Hotel room  room_type_Private room  room_type_Shared room  \n",
              "0                         0                       0                      0  \n",
              "1                         0                       0                      0  \n",
              "2                         0                       1                      0  \n",
              "3                         0                       0                      0  \n",
              "4                         0                       1                      0  \n",
              "...                     ...                     ...                    ...  \n",
              "20875                     0                       1                      0  \n",
              "20876                     0                       1                      0  \n",
              "20877                     0                       0                      0  \n",
              "20878                     0                       0                      0  \n",
              "20879                     0                       0                      0  \n",
              "\n",
              "[125798 rows x 435 columns]"
            ],
            "text/html": [
              "\n",
              "  <div id=\"df-d7971101-4453-4c7c-9800-35fb030e9766\">\n",
              "    <div class=\"colab-df-container\">\n",
              "      <div>\n",
              "<style scoped>\n",
              "    .dataframe tbody tr th:only-of-type {\n",
              "        vertical-align: middle;\n",
              "    }\n",
              "\n",
              "    .dataframe tbody tr th {\n",
              "        vertical-align: top;\n",
              "    }\n",
              "\n",
              "    .dataframe thead th {\n",
              "        text-align: right;\n",
              "    }\n",
              "</style>\n",
              "<table border=\"1\" class=\"dataframe\">\n",
              "  <thead>\n",
              "    <tr style=\"text-align: right;\">\n",
              "      <th></th>\n",
              "      <th>Cities</th>\n",
              "      <th>host_is_superhost</th>\n",
              "      <th>host_total_listings_count</th>\n",
              "      <th>host_has_profile_pic</th>\n",
              "      <th>host_identity_verified</th>\n",
              "      <th>latitude</th>\n",
              "      <th>longitude</th>\n",
              "      <th>accommodates</th>\n",
              "      <th>beds</th>\n",
              "      <th>price</th>\n",
              "      <th>...</th>\n",
              "      <th>property_type_Shared room in villa</th>\n",
              "      <th>property_type_Tent</th>\n",
              "      <th>property_type_Tiny house</th>\n",
              "      <th>property_type_Tower</th>\n",
              "      <th>property_type_Train</th>\n",
              "      <th>property_type_Treehouse</th>\n",
              "      <th>property_type_Yurt</th>\n",
              "      <th>room_type_Hotel room</th>\n",
              "      <th>room_type_Private room</th>\n",
              "      <th>room_type_Shared room</th>\n",
              "    </tr>\n",
              "  </thead>\n",
              "  <tbody>\n",
              "    <tr>\n",
              "      <th>0</th>\n",
              "      <td>1</td>\n",
              "      <td>0.0</td>\n",
              "      <td>8.0</td>\n",
              "      <td>1.0</td>\n",
              "      <td>1.0</td>\n",
              "      <td>40.753560</td>\n",
              "      <td>-73.985590</td>\n",
              "      <td>1</td>\n",
              "      <td>1.0</td>\n",
              "      <td>150.0</td>\n",
              "      <td>...</td>\n",
              "      <td>0</td>\n",
              "      <td>0</td>\n",
              "      <td>0</td>\n",
              "      <td>0</td>\n",
              "      <td>0</td>\n",
              "      <td>0</td>\n",
              "      <td>0</td>\n",
              "      <td>0</td>\n",
              "      <td>0</td>\n",
              "      <td>0</td>\n",
              "    </tr>\n",
              "    <tr>\n",
              "      <th>1</th>\n",
              "      <td>1</td>\n",
              "      <td>0.0</td>\n",
              "      <td>1.0</td>\n",
              "      <td>1.0</td>\n",
              "      <td>1.0</td>\n",
              "      <td>40.684940</td>\n",
              "      <td>-73.957650</td>\n",
              "      <td>3</td>\n",
              "      <td>3.0</td>\n",
              "      <td>75.0</td>\n",
              "      <td>...</td>\n",
              "      <td>0</td>\n",
              "      <td>0</td>\n",
              "      <td>0</td>\n",
              "      <td>0</td>\n",
              "      <td>0</td>\n",
              "      <td>0</td>\n",
              "      <td>0</td>\n",
              "      <td>0</td>\n",
              "      <td>0</td>\n",
              "      <td>0</td>\n",
              "    </tr>\n",
              "    <tr>\n",
              "      <th>2</th>\n",
              "      <td>1</td>\n",
              "      <td>0.0</td>\n",
              "      <td>1.0</td>\n",
              "      <td>1.0</td>\n",
              "      <td>1.0</td>\n",
              "      <td>40.685350</td>\n",
              "      <td>-73.955120</td>\n",
              "      <td>2</td>\n",
              "      <td>1.0</td>\n",
              "      <td>60.0</td>\n",
              "      <td>...</td>\n",
              "      <td>0</td>\n",
              "      <td>0</td>\n",
              "      <td>0</td>\n",
              "      <td>0</td>\n",
              "      <td>0</td>\n",
              "      <td>0</td>\n",
              "      <td>0</td>\n",
              "      <td>0</td>\n",
              "      <td>1</td>\n",
              "      <td>0</td>\n",
              "    </tr>\n",
              "    <tr>\n",
              "      <th>3</th>\n",
              "      <td>1</td>\n",
              "      <td>0.0</td>\n",
              "      <td>1.0</td>\n",
              "      <td>1.0</td>\n",
              "      <td>1.0</td>\n",
              "      <td>40.662650</td>\n",
              "      <td>-73.994540</td>\n",
              "      <td>4</td>\n",
              "      <td>2.0</td>\n",
              "      <td>275.0</td>\n",
              "      <td>...</td>\n",
              "      <td>0</td>\n",
              "      <td>0</td>\n",
              "      <td>0</td>\n",
              "      <td>0</td>\n",
              "      <td>0</td>\n",
              "      <td>0</td>\n",
              "      <td>0</td>\n",
              "      <td>0</td>\n",
              "      <td>0</td>\n",
              "      <td>0</td>\n",
              "    </tr>\n",
              "    <tr>\n",
              "      <th>4</th>\n",
              "      <td>1</td>\n",
              "      <td>0.0</td>\n",
              "      <td>1.0</td>\n",
              "      <td>1.0</td>\n",
              "      <td>0.0</td>\n",
              "      <td>40.764570</td>\n",
              "      <td>-73.983170</td>\n",
              "      <td>2</td>\n",
              "      <td>1.0</td>\n",
              "      <td>68.0</td>\n",
              "      <td>...</td>\n",
              "      <td>0</td>\n",
              "      <td>0</td>\n",
              "      <td>0</td>\n",
              "      <td>0</td>\n",
              "      <td>0</td>\n",
              "      <td>0</td>\n",
              "      <td>0</td>\n",
              "      <td>0</td>\n",
              "      <td>1</td>\n",
              "      <td>0</td>\n",
              "    </tr>\n",
              "    <tr>\n",
              "      <th>...</th>\n",
              "      <td>...</td>\n",
              "      <td>...</td>\n",
              "      <td>...</td>\n",
              "      <td>...</td>\n",
              "      <td>...</td>\n",
              "      <td>...</td>\n",
              "      <td>...</td>\n",
              "      <td>...</td>\n",
              "      <td>...</td>\n",
              "      <td>...</td>\n",
              "      <td>...</td>\n",
              "      <td>...</td>\n",
              "      <td>...</td>\n",
              "      <td>...</td>\n",
              "      <td>...</td>\n",
              "      <td>...</td>\n",
              "      <td>...</td>\n",
              "      <td>...</td>\n",
              "      <td>...</td>\n",
              "      <td>...</td>\n",
              "      <td>...</td>\n",
              "    </tr>\n",
              "    <tr>\n",
              "      <th>20875</th>\n",
              "      <td>3</td>\n",
              "      <td>0.0</td>\n",
              "      <td>13.0</td>\n",
              "      <td>1.0</td>\n",
              "      <td>0.0</td>\n",
              "      <td>-33.930222</td>\n",
              "      <td>151.190360</td>\n",
              "      <td>2</td>\n",
              "      <td>1.0</td>\n",
              "      <td>79.0</td>\n",
              "      <td>...</td>\n",
              "      <td>0</td>\n",
              "      <td>0</td>\n",
              "      <td>0</td>\n",
              "      <td>0</td>\n",
              "      <td>0</td>\n",
              "      <td>0</td>\n",
              "      <td>0</td>\n",
              "      <td>0</td>\n",
              "      <td>1</td>\n",
              "      <td>0</td>\n",
              "    </tr>\n",
              "    <tr>\n",
              "      <th>20876</th>\n",
              "      <td>3</td>\n",
              "      <td>0.0</td>\n",
              "      <td>7.0</td>\n",
              "      <td>1.0</td>\n",
              "      <td>1.0</td>\n",
              "      <td>-33.929359</td>\n",
              "      <td>151.187843</td>\n",
              "      <td>2</td>\n",
              "      <td>1.0</td>\n",
              "      <td>80.0</td>\n",
              "      <td>...</td>\n",
              "      <td>0</td>\n",
              "      <td>0</td>\n",
              "      <td>0</td>\n",
              "      <td>0</td>\n",
              "      <td>0</td>\n",
              "      <td>0</td>\n",
              "      <td>0</td>\n",
              "      <td>0</td>\n",
              "      <td>1</td>\n",
              "      <td>0</td>\n",
              "    </tr>\n",
              "    <tr>\n",
              "      <th>20877</th>\n",
              "      <td>3</td>\n",
              "      <td>0.0</td>\n",
              "      <td>7.0</td>\n",
              "      <td>1.0</td>\n",
              "      <td>1.0</td>\n",
              "      <td>-33.781406</td>\n",
              "      <td>151.111693</td>\n",
              "      <td>2</td>\n",
              "      <td>1.0</td>\n",
              "      <td>150.0</td>\n",
              "      <td>...</td>\n",
              "      <td>0</td>\n",
              "      <td>0</td>\n",
              "      <td>0</td>\n",
              "      <td>0</td>\n",
              "      <td>0</td>\n",
              "      <td>0</td>\n",
              "      <td>0</td>\n",
              "      <td>0</td>\n",
              "      <td>0</td>\n",
              "      <td>0</td>\n",
              "    </tr>\n",
              "    <tr>\n",
              "      <th>20878</th>\n",
              "      <td>3</td>\n",
              "      <td>0.0</td>\n",
              "      <td>7.0</td>\n",
              "      <td>1.0</td>\n",
              "      <td>1.0</td>\n",
              "      <td>-33.921565</td>\n",
              "      <td>151.191030</td>\n",
              "      <td>4</td>\n",
              "      <td>1.0</td>\n",
              "      <td>169.0</td>\n",
              "      <td>...</td>\n",
              "      <td>0</td>\n",
              "      <td>0</td>\n",
              "      <td>0</td>\n",
              "      <td>0</td>\n",
              "      <td>0</td>\n",
              "      <td>0</td>\n",
              "      <td>0</td>\n",
              "      <td>0</td>\n",
              "      <td>0</td>\n",
              "      <td>0</td>\n",
              "    </tr>\n",
              "    <tr>\n",
              "      <th>20879</th>\n",
              "      <td>3</td>\n",
              "      <td>0.0</td>\n",
              "      <td>7.0</td>\n",
              "      <td>1.0</td>\n",
              "      <td>1.0</td>\n",
              "      <td>-33.737631</td>\n",
              "      <td>151.134933</td>\n",
              "      <td>8</td>\n",
              "      <td>1.0</td>\n",
              "      <td>254.0</td>\n",
              "      <td>...</td>\n",
              "      <td>0</td>\n",
              "      <td>0</td>\n",
              "      <td>0</td>\n",
              "      <td>0</td>\n",
              "      <td>0</td>\n",
              "      <td>0</td>\n",
              "      <td>0</td>\n",
              "      <td>0</td>\n",
              "      <td>0</td>\n",
              "      <td>0</td>\n",
              "    </tr>\n",
              "  </tbody>\n",
              "</table>\n",
              "<p>125798 rows × 435 columns</p>\n",
              "</div>\n",
              "      <button class=\"colab-df-convert\" onclick=\"convertToInteractive('df-d7971101-4453-4c7c-9800-35fb030e9766')\"\n",
              "              title=\"Convert this dataframe to an interactive table.\"\n",
              "              style=\"display:none;\">\n",
              "        \n",
              "  <svg xmlns=\"http://www.w3.org/2000/svg\" height=\"24px\"viewBox=\"0 0 24 24\"\n",
              "       width=\"24px\">\n",
              "    <path d=\"M0 0h24v24H0V0z\" fill=\"none\"/>\n",
              "    <path d=\"M18.56 5.44l.94 2.06.94-2.06 2.06-.94-2.06-.94-.94-2.06-.94 2.06-2.06.94zm-11 1L8.5 8.5l.94-2.06 2.06-.94-2.06-.94L8.5 2.5l-.94 2.06-2.06.94zm10 10l.94 2.06.94-2.06 2.06-.94-2.06-.94-.94-2.06-.94 2.06-2.06.94z\"/><path d=\"M17.41 7.96l-1.37-1.37c-.4-.4-.92-.59-1.43-.59-.52 0-1.04.2-1.43.59L10.3 9.45l-7.72 7.72c-.78.78-.78 2.05 0 2.83L4 21.41c.39.39.9.59 1.41.59.51 0 1.02-.2 1.41-.59l7.78-7.78 2.81-2.81c.8-.78.8-2.07 0-2.86zM5.41 20L4 18.59l7.72-7.72 1.47 1.35L5.41 20z\"/>\n",
              "  </svg>\n",
              "      </button>\n",
              "      \n",
              "  <style>\n",
              "    .colab-df-container {\n",
              "      display:flex;\n",
              "      flex-wrap:wrap;\n",
              "      gap: 12px;\n",
              "    }\n",
              "\n",
              "    .colab-df-convert {\n",
              "      background-color: #E8F0FE;\n",
              "      border: none;\n",
              "      border-radius: 50%;\n",
              "      cursor: pointer;\n",
              "      display: none;\n",
              "      fill: #1967D2;\n",
              "      height: 32px;\n",
              "      padding: 0 0 0 0;\n",
              "      width: 32px;\n",
              "    }\n",
              "\n",
              "    .colab-df-convert:hover {\n",
              "      background-color: #E2EBFA;\n",
              "      box-shadow: 0px 1px 2px rgba(60, 64, 67, 0.3), 0px 1px 3px 1px rgba(60, 64, 67, 0.15);\n",
              "      fill: #174EA6;\n",
              "    }\n",
              "\n",
              "    [theme=dark] .colab-df-convert {\n",
              "      background-color: #3B4455;\n",
              "      fill: #D2E3FC;\n",
              "    }\n",
              "\n",
              "    [theme=dark] .colab-df-convert:hover {\n",
              "      background-color: #434B5C;\n",
              "      box-shadow: 0px 1px 3px 1px rgba(0, 0, 0, 0.15);\n",
              "      filter: drop-shadow(0px 1px 2px rgba(0, 0, 0, 0.3));\n",
              "      fill: #FFFFFF;\n",
              "    }\n",
              "  </style>\n",
              "\n",
              "      <script>\n",
              "        const buttonEl =\n",
              "          document.querySelector('#df-d7971101-4453-4c7c-9800-35fb030e9766 button.colab-df-convert');\n",
              "        buttonEl.style.display =\n",
              "          google.colab.kernel.accessAllowed ? 'block' : 'none';\n",
              "\n",
              "        async function convertToInteractive(key) {\n",
              "          const element = document.querySelector('#df-d7971101-4453-4c7c-9800-35fb030e9766');\n",
              "          const dataTable =\n",
              "            await google.colab.kernel.invokeFunction('convertToInteractive',\n",
              "                                                     [key], {});\n",
              "          if (!dataTable) return;\n",
              "\n",
              "          const docLinkHtml = 'Like what you see? Visit the ' +\n",
              "            '<a target=\"_blank\" href=https://colab.research.google.com/notebooks/data_table.ipynb>data table notebook</a>'\n",
              "            + ' to learn more about interactive tables.';\n",
              "          element.innerHTML = '';\n",
              "          dataTable['output_type'] = 'display_data';\n",
              "          await google.colab.output.renderOutput(dataTable, element);\n",
              "          const docLink = document.createElement('div');\n",
              "          docLink.innerHTML = docLinkHtml;\n",
              "          element.appendChild(docLink);\n",
              "        }\n",
              "      </script>\n",
              "    </div>\n",
              "  </div>\n",
              "  "
            ]
          },
          "metadata": {},
          "execution_count": 50
        }
      ]
    },
    {
      "cell_type": "code",
      "source": [
        "listings.dtypes"
      ],
      "metadata": {
        "colab": {
          "base_uri": "https://localhost:8080/"
        },
        "id": "tQ3PAHiI5wNy",
        "outputId": "251a27ab-00a1-4273-8102-f40006fd9154"
      },
      "execution_count": null,
      "outputs": [
        {
          "output_type": "execute_result",
          "data": {
            "text/plain": [
              "Cities                         int64\n",
              "host_is_superhost            float64\n",
              "host_total_listings_count    float64\n",
              "host_has_profile_pic         float64\n",
              "host_identity_verified       float64\n",
              "                              ...   \n",
              "property_type_Treehouse        uint8\n",
              "property_type_Yurt             uint8\n",
              "room_type_Hotel room           uint8\n",
              "room_type_Private room         uint8\n",
              "room_type_Shared room          uint8\n",
              "Length: 435, dtype: object"
            ]
          },
          "metadata": {},
          "execution_count": 51
        }
      ]
    },
    {
      "cell_type": "markdown",
      "source": [
        "#Modelling"
      ],
      "metadata": {
        "id": "7CcnbpwtJnrK"
      }
    },
    {
      "cell_type": "code",
      "source": [
        "y = listings['price']\n",
        "\n",
        "X = listings.drop(['price'], axis = 1 )"
      ],
      "metadata": {
        "id": "d9eyZphIXBot"
      },
      "execution_count": null,
      "outputs": []
    },
    {
      "cell_type": "code",
      "source": [
        "# split data to train and test data set \n",
        "from sklearn.model_selection import train_test_split\n",
        "\n",
        "X_train, X_test,  y_train, y_test = train_test_split(X, y)"
      ],
      "metadata": {
        "id": "lxCs5DkEXBsJ"
      },
      "execution_count": null,
      "outputs": []
    },
    {
      "cell_type": "code",
      "source": [
        "# create a function for evaluate a model with prediction time \n",
        "\n",
        "from sklearn.metrics import mean_squared_error, r2_score\n",
        "from time import time\n",
        "\n",
        "def train_predict(learner, X_train, y_train, X_test, y_test): \n",
        "    \"\"\"\n",
        "    inputs:\n",
        "       - learner: the learning algorithm to be trained and predicted on\n",
        "       - X_train: features training set\n",
        "       - y_train: review_scores_rating training set\n",
        "       - X_test: features testing set\n",
        "       - y_test: review_scores_rating testing set\n",
        "    \"\"\"\n",
        "    results = {}\n",
        "    \n",
        "    #Fit the learner to the training data a\n",
        "    learner = learner.fit(X_train, y_train)\n",
        "    \n",
        "    \n",
        "    # Get predictions on the test set(X_test), \n",
        "    predictions_test = learner.predict(X_test)\n",
        "    predictions_train = learner.predict(X_train)\n",
        "    \n",
        "    #Compute score on the training samples\n",
        "    results['mse_train'] = mean_squared_error(y_train, predictions_train)\n",
        "    results['r2_train'] = r2_score(y_train, predictions_train)\n",
        "    \n",
        "    #Compute accuracy on test set\n",
        "    results['mse_test'] = mean_squared_error(y_test,predictions_test)\n",
        "    results['r2_test'] = r2_score(y_test,predictions_test)\n",
        "    \n",
        "    print(\"MSE_train: %.4f\" % results['mse_train'])\n",
        "    print(\"MSE_test: %.4f\" % results['mse_test'])\n",
        "    print(\"R2_train:%.4f\" % learner.score(X_train,y_train))\n",
        "    print(\"R2_test:%.4f\" % learner.score(X_test,y_test))\n",
        "    return results"
      ],
      "metadata": {
        "id": "xMnruGPoUS-O"
      },
      "execution_count": null,
      "outputs": []
    },
    {
      "cell_type": "code",
      "source": [
        ""
      ],
      "metadata": {
        "id": "Outvt8MYXA3q"
      },
      "execution_count": null,
      "outputs": []
    },
    {
      "cell_type": "code",
      "source": [
        "#Initialize two different models\n",
        "\n",
        "from sklearn.ensemble import RandomForestRegressor, AdaBoostRegressor\n",
        "from sklearn.tree import DecisionTreeRegressor\n",
        "from sklearn.neighbors import KNeighborsRegressor\n",
        "from sklearn.linear_model import Lasso \n",
        "\n",
        "#clf1 = KNeighborsRegressor()\n",
        "clf2 = RandomForestRegressor(random_state = 42)\n",
        "clf3 = Lasso(random_state = 2 )\n",
        "#clf4 = AdaBoostRegressor(random_state =42)\n",
        "\n",
        "\n",
        "# Collect results on the learners\n",
        "results = {}\n",
        "for clf in [ clf2, clf3]:\n",
        "    clf_name = clf.__class__.__name__\n",
        "    results[clf_name] = {}\n",
        "    results[clf_name] = train_predict(clf,  X_train, y_train, X_test, y_test)"
      ],
      "metadata": {
        "colab": {
          "base_uri": "https://localhost:8080/"
        },
        "id": "mzsf4BNZUTAw",
        "outputId": "19d62a14-460a-4b5e-eaf3-2eee8b53c671"
      },
      "execution_count": null,
      "outputs": [
        {
          "output_type": "stream",
          "name": "stdout",
          "text": [
            "MSE_train: 12307.6511\n",
            "MSE_test: 74114.2743\n",
            "R2_train:0.9112\n",
            "R2_test:0.4188\n"
          ]
        },
        {
          "output_type": "stream",
          "name": "stderr",
          "text": [
            "/usr/local/lib/python3.7/dist-packages/sklearn/linear_model/_coordinate_descent.py:648: ConvergenceWarning: Objective did not converge. You might want to increase the number of iterations, check the scale of the features or consider increasing regularisation. Duality gap: 5.721e+09, tolerance: 1.308e+06\n",
            "  coef_, l1_reg, l2_reg, X, y, max_iter, tol, rng, random, positive\n"
          ]
        },
        {
          "output_type": "stream",
          "name": "stdout",
          "text": [
            "MSE_train: 120019.1459\n",
            "MSE_test: 111002.0989\n",
            "R2_train:0.1344\n",
            "R2_test:0.1295\n"
          ]
        }
      ]
    },
    {
      "cell_type": "code",
      "source": [
        "# Visualize the the result from four different models\n",
        "\n",
        "def evaluate(results):\n",
        "    \"\"\"\n",
        "    Visualization code to display results of various learners.\n",
        "    inputs:\n",
        "        results: a dictionary of individual learners, each learner is a dictionary of different metric  \n",
        "    \"\"\"\n",
        "    # Create figure\n",
        "    fig, ax = plt.subplots(2, 2, figsize = (12,7))\n",
        "    fig.tight_layout()\n",
        "\n",
        "    learners = results.keys()\n",
        "    mdict = {'RandomForestRegressor': 'RF',  'Lasso': 'Lasso'}\n",
        "    learners = [mdict[key] for key in learners]\n",
        "     \n",
        "    #  loop to plot four panels of data\n",
        "    for j, metric in enumerate([ 'mse_train', 'r2_train', 'mse_test', 'r2_test']):\n",
        "        y = []\n",
        "        for  k, learner in enumerate(results.keys()):\n",
        "            y.append( results[learner][metric])\n",
        "            \n",
        "        ax[j//2, j%2].bar(learners, y,   align='center', alpha=0.5)\n",
        "        ax[j//2, j%2].set_title(metric)\n",
        "        \n",
        "    plt.show()"
      ],
      "metadata": {
        "id": "7cJDvaTJUTJO"
      },
      "execution_count": null,
      "outputs": []
    },
    {
      "cell_type": "code",
      "source": [
        "# show the results core graph \n",
        "evaluate(results)"
      ],
      "metadata": {
        "colab": {
          "base_uri": "https://localhost:8080/",
          "height": 525
        },
        "id": "oljKePgYUTMI",
        "outputId": "c1caae95-4712-452d-a3cc-f925994e9ab9"
      },
      "execution_count": null,
      "outputs": [
        {
          "output_type": "display_data",
          "data": {
            "text/plain": [
              "<Figure size 864x504 with 4 Axes>"
            ],
            "image/png": "[encoded data removed]"
          },
          "metadata": {
            "needs_background": "light"
          }
        }
      ]
    },
    {
      "cell_type": "code",
      "source": [
        "print(results['RandomForestRegressor'])\n",
        "print(results['Lasso'])"
      ],
      "metadata": {
        "colab": {
          "base_uri": "https://localhost:8080/"
        },
        "id": "ZgbsZy_WUl8B",
        "outputId": "709347b8-3135-496c-fc4f-ab0041fa7128"
      },
      "execution_count": null,
      "outputs": [
        {
          "output_type": "stream",
          "name": "stdout",
          "text": [
            "{'mse_train': 12307.651066876972, 'r2_train': 0.9112369131009173, 'mse_test': 74114.27433970428, 'r2_test': 0.41875415038991437}\n",
            "{'mse_train': 120019.14589173761, 'r2_train': 0.13441892214407525, 'mse_test': 111002.09887267997, 'r2_test': 0.1294590705694949}\n"
          ]
        }
      ]
    },
    {
      "cell_type": "code",
      "source": [
        ""
      ],
      "metadata": {
        "id": "_aNsgU96Ul-z"
      },
      "execution_count": null,
      "outputs": []
    },
    {
      "cell_type": "code",
      "source": [
        "# TODO: Import a supervised learning model that has 'feature_importances_'\n",
        "#Random Forest Classifier model has the feature_importances attribute \n",
        "\n",
        "# TODO: Train the supervised model on the training set using .fit(X_train, y_train)\n",
        "model = RandomForestRegressor(random_state=42)\n",
        "\n",
        "model.fit(X_train, y_train)\n",
        "\n",
        "# TODO: Extract the feature importances using .feature_importances_ \n",
        "importances = model.feature_importances_\n",
        "importances"
      ],
      "metadata": {
        "colab": {
          "base_uri": "https://localhost:8080/"
        },
        "id": "pEAPZcfXY9nA",
        "outputId": "986d29a1-6c35-4a2b-e88a-bbe6e034b9f0"
      },
      "execution_count": null,
      "outputs": [
        {
          "output_type": "execute_result",
          "data": {
            "text/plain": [
              "array([3.65580331e-04, 1.05603088e-02, 2.34261661e-02, 3.63024408e-04,\n",
              "       7.77469136e-03, 7.79803920e-02, 1.33746660e-01, 1.01950673e-01,\n",
              "       2.44855150e-02, 3.75418063e-02, 3.05012329e-02, 5.03997402e-02,\n",
              "       2.38314043e-02, 3.81958918e-03, 9.26992225e-02, 2.93416533e-02,\n",
              "       8.91839825e-03, 4.76212512e-03, 4.12220985e-02, 5.15394760e-02,\n",
              "       2.48815400e-02, 4.92234214e-04, 1.56601149e-02, 2.36673660e-08,\n",
              "       2.10731460e-06, 6.14185593e-05, 4.85352724e-06, 1.60675185e-05,\n",
              "       9.16448772e-05, 1.19344924e-05, 1.30978771e-05, 1.49739610e-04,\n",
              "       5.33075747e-08, 1.64177698e-04, 7.99084304e-05, 9.57167724e-08,\n",
              "       2.45748777e-05, 2.36340169e-06, 1.37170520e-07, 4.25122084e-04,\n",
              "       2.07248613e-06, 8.32119323e-07, 1.78139226e-06, 7.08747140e-07,\n",
              "       8.56059868e-07, 6.26015552e-05, 2.78445480e-05, 2.79984055e-05,\n",
              "       1.33038434e-06, 1.84588196e-05, 1.03366837e-06, 6.86044702e-04,\n",
              "       1.24492812e-03, 1.09808270e-05, 2.74958180e-05, 4.57643445e-08,\n",
              "       1.67513229e-05, 7.35688941e-06, 3.73699611e-08, 8.73590973e-06,\n",
              "       1.75907442e-04, 4.24129168e-06, 9.25521846e-04, 5.22840599e-06,\n",
              "       6.47064540e-05, 2.38318338e-04, 2.90631014e-05, 5.60049866e-05,\n",
              "       1.90057587e-08, 1.15000805e-07, 2.35125322e-04, 2.81470265e-09,\n",
              "       7.61891486e-04, 1.68149141e-07, 5.91638895e-06, 2.87825514e-03,\n",
              "       6.90655243e-06, 6.86433531e-07, 1.24357025e-06, 1.23292747e-06,\n",
              "       5.85937036e-04, 1.86984905e-07, 8.11131138e-05, 1.83333949e-07,\n",
              "       8.20121249e-06, 1.36676221e-06, 6.87259829e-07, 2.64035395e-07,\n",
              "       3.74602301e-06, 1.66465801e-06, 8.51889258e-09, 1.87272443e-04,\n",
              "       2.77148671e-05, 5.85121516e-04, 1.34906019e-06, 7.66996366e-06,\n",
              "       2.45523297e-08, 3.01654117e-07, 5.91283314e-06, 1.03435941e-06,\n",
              "       2.12129911e-04, 1.96846833e-06, 8.55321070e-05, 2.82018686e-04,\n",
              "       1.26059803e-06, 4.16993227e-06, 4.33992077e-04, 1.31251247e-06,\n",
              "       2.27545164e-06, 1.16805301e-06, 8.00103291e-06, 1.42361075e-09,\n",
              "       4.99605284e-07, 7.54790855e-06, 1.32373115e-05, 1.47693061e-05,\n",
              "       1.16599649e-07, 1.26738206e-04, 1.14865340e-05, 3.78621298e-04,\n",
              "       1.14511006e-04, 5.70142021e-05, 3.58656455e-06, 2.80484589e-05,\n",
              "       2.45989146e-05, 2.46149350e-06, 0.00000000e+00, 1.95220401e-06,\n",
              "       1.74302216e-07, 2.57967550e-06, 3.65112341e-05, 1.53435780e-04,\n",
              "       4.75310062e-09, 1.15117755e-08, 5.65893268e-07, 1.05484288e-08,\n",
              "       5.81016560e-05, 1.07066143e-04, 1.38700993e-03, 7.70631792e-07,\n",
              "       4.01443000e-04, 2.88047424e-02, 3.49281628e-03, 2.06949936e-04,\n",
              "       3.33890645e-04, 8.49325242e-06, 1.97296561e-04, 2.97857841e-07,\n",
              "       7.34975409e-05, 1.81325928e-07, 7.38401547e-07, 3.98121337e-06,\n",
              "       9.47373434e-05, 5.07149527e-04, 1.93538037e-06, 4.05568455e-09,\n",
              "       2.83118832e-09, 2.35033770e-06, 1.98420754e-07, 3.78917029e-05,\n",
              "       2.32760481e-05, 1.74132192e-03, 2.84545064e-05, 5.91752937e-06,\n",
              "       2.56494986e-04, 3.96654140e-07, 6.05374365e-05, 2.43976237e-02,\n",
              "       2.57209615e-06, 4.68470836e-06, 5.79336798e-06, 1.79460177e-04,\n",
              "       2.51488838e-04, 4.20254328e-05, 3.36331631e-04, 8.62285003e-05,\n",
              "       4.17850149e-07, 8.33127924e-05, 9.44112748e-04, 8.46145969e-07,\n",
              "       4.39528808e-05, 1.09666519e-08, 2.04360502e-05, 1.18674907e-04,\n",
              "       3.83930595e-05, 2.25186230e-03, 6.59693672e-08, 5.97477714e-04,\n",
              "       3.51831770e-08, 4.94882883e-08, 3.46071376e-05, 2.15217468e-06,\n",
              "       2.28048836e-08, 2.05986172e-04, 2.47322570e-06, 2.07945679e-08,\n",
              "       4.65112598e-03, 1.41733737e-06, 1.08449601e-07, 1.13830277e-04,\n",
              "       1.68346954e-06, 3.09237253e-06, 2.74933933e-07, 5.63962839e-04,\n",
              "       3.48450229e-06, 1.60191801e-07, 8.64221719e-07, 7.30878094e-05,\n",
              "       1.63079536e-07, 0.00000000e+00, 2.72660207e-05, 3.13344662e-07,\n",
              "       1.92960273e-08, 3.14989469e-08, 2.30583808e-04, 1.17945628e-04,\n",
              "       2.75846024e-05, 4.87441831e-07, 3.74408559e-04, 1.41073096e-05,\n",
              "       2.69296760e-08, 3.80243342e-07, 2.21326216e-06, 1.19212346e-05,\n",
              "       3.41269960e-06, 1.53777853e-05, 2.49737993e-07, 6.00134400e-06,\n",
              "       6.21285663e-05, 9.55661262e-05, 1.47359140e-06, 4.57392323e-06,\n",
              "       1.00358067e-06, 6.68657784e-05, 1.52577204e-04, 6.99432221e-07,\n",
              "       1.64615801e-06, 5.06552837e-04, 1.45405968e-06, 1.51401960e-04,\n",
              "       1.86578705e-06, 5.20951979e-06, 4.36356291e-04, 1.63279187e-08,\n",
              "       1.63285500e-05, 2.59007154e-06, 6.90470489e-06, 2.10294190e-05,\n",
              "       1.57996773e-06, 5.48298380e-08, 7.57015537e-07, 3.40416241e-08,\n",
              "       1.17653190e-04, 1.97307521e-08, 3.92858666e-08, 1.30421542e-03,\n",
              "       2.10021858e-07, 1.44345909e-08, 1.34257678e-04, 9.51434279e-08,\n",
              "       1.40519241e-08, 4.36792565e-06, 3.90007752e-06, 9.08631826e-03,\n",
              "       8.74601082e-06, 1.33975910e-08, 8.95615726e-06, 2.11098831e-07,\n",
              "       5.37030878e-07, 1.00205252e-04, 2.27580684e-05, 4.66280758e-05,\n",
              "       1.41648075e-05, 8.89702163e-05, 1.19846107e-05, 3.70986042e-03,\n",
              "       4.36145696e-03, 6.09498570e-04, 3.72527693e-07, 7.06273440e-08,\n",
              "       4.36483538e-07, 2.25438228e-08, 2.44927933e-03, 5.82820590e-07,\n",
              "       7.68798077e-04, 1.03425689e-06, 1.33076801e-06, 1.12818394e-06,\n",
              "       7.09901750e-04, 1.01023527e-03, 8.78263741e-07, 4.00719861e-06,\n",
              "       3.76794186e-06, 2.49240410e-04, 6.00978723e-03, 2.08047815e-04,\n",
              "       1.43520994e-04, 5.19456246e-04, 4.08866897e-07, 9.84773781e-08,\n",
              "       1.21968578e-03, 3.92655715e-07, 2.31099933e-07, 1.64740125e-02,\n",
              "       1.86412969e-07, 3.05635306e-06, 3.34359673e-04, 2.64580858e-05,\n",
              "       2.71897415e-06, 1.58711423e-06, 1.07666864e-06, 1.16733013e-11,\n",
              "       4.94648772e-06, 5.40906919e-03, 7.99510603e-04, 4.68991627e-08,\n",
              "       8.56263479e-06, 1.01946808e-06, 4.97672135e-08, 1.49714517e-06,\n",
              "       1.96883121e-07, 1.74950557e-05, 2.17684761e-06, 0.00000000e+00,\n",
              "       1.33683372e-05, 5.11960255e-06, 1.07205701e-05, 8.20995511e-04,\n",
              "       1.23732573e-04, 4.80917621e-05, 1.16713718e-04, 5.34520503e-05,\n",
              "       1.16719173e-03, 3.68684557e-04, 3.54034384e-03, 5.49520240e-03,\n",
              "       4.72567974e-03, 9.38063894e-04, 2.90544441e-05, 1.32117706e-02,\n",
              "       3.58853986e-06, 1.22704753e-06, 5.35434133e-08, 3.52613805e-05,\n",
              "       0.00000000e+00, 8.13628456e-07, 1.45730913e-06, 5.37136337e-05,\n",
              "       3.95651369e-09, 9.95786390e-04, 9.35918467e-06, 2.90527938e-04,\n",
              "       7.33508542e-04, 3.80757076e-07, 2.16110647e-06, 3.55672472e-06,\n",
              "       2.53754358e-08, 1.99061417e-04, 2.87325330e-07, 0.00000000e+00,\n",
              "       0.00000000e+00, 1.80832960e-09, 3.78447409e-08, 1.58327315e-05,\n",
              "       6.98466245e-09, 5.57944422e-05, 2.50657204e-05, 1.72931416e-04,\n",
              "       8.37354618e-08, 5.28487340e-08, 2.76179019e-10, 4.50431809e-08,\n",
              "       2.45782435e-05, 5.95823389e-05, 4.83037513e-09, 1.74490101e-08,\n",
              "       3.11186556e-08, 5.83712340e-08, 1.20023130e-08, 1.63579981e-03,\n",
              "       1.47624386e-03, 8.19218573e-05, 7.75979764e-03, 1.86060213e-09,\n",
              "       7.01534237e-08, 1.85393840e-07, 4.89152795e-10, 1.43066143e-03,\n",
              "       7.94059076e-09, 1.74817819e-08, 4.59470048e-05, 9.02501981e-06,\n",
              "       5.49258268e-06, 2.93607763e-04, 1.84353658e-05, 5.68318309e-03,\n",
              "       5.12436334e-06, 2.33849104e-03, 6.21871125e-09, 4.08780220e-08,\n",
              "       1.22640465e-04, 7.91959059e-07, 2.24771154e-06, 4.24072493e-07,\n",
              "       3.85094978e-10, 7.38673269e-09, 2.41255553e-09, 4.34767370e-07,\n",
              "       2.45739538e-06, 2.81231749e-05, 2.12609284e-08, 1.26843083e-06,\n",
              "       1.09733634e-09, 2.06318120e-07, 4.77789230e-08, 4.03295262e-05,\n",
              "       6.52163755e-08, 0.00000000e+00, 2.89345718e-06, 6.29228959e-04,\n",
              "       2.89225070e-05, 1.04720378e-06, 1.35581327e-09, 6.29489184e-05,\n",
              "       2.92568882e-07, 2.97461775e-07, 6.62631491e-06, 2.41182344e-04,\n",
              "       6.49547493e-09, 7.85301697e-06, 0.00000000e+00, 2.32632022e-04,\n",
              "       4.54714969e-03, 2.42042178e-04])"
            ]
          },
          "metadata": {},
          "execution_count": 62
        }
      ]
    },
    {
      "cell_type": "code",
      "source": [
        "# Create a function for feature plot \n",
        "def feature_plot(importances, X_train, y_train):\n",
        "    \n",
        "    # Display the most important features\n",
        "    indices = np.argsort(importances)[::-1]\n",
        "    columns = X_train.columns.values[indices[:5]]\n",
        "    values = importances[indices][:5]\n",
        "\n",
        "    # Creat the plot\n",
        "    fig = plt.figure(figsize = (12,5))\n",
        "    plt.title(\"Normalized Weights for First five Most Predictive Features\", fontsize = 16)\n",
        "    plt.bar(np.arange(5), values, width = 0.6, align=\"center\", color = '#00A000', \\\n",
        "          label = \"Feature Weight\")\n",
        "    plt.bar(np.arange(5) - 0.3, np.cumsum(values), width = 0.5, align = \"center\", color = '#00A0A0', \\\n",
        "          label = \"Cumulative Feature Weight\")\n",
        "    plt.xticks(np.arange(5), columns)\n",
        "    plt.xlim((-0.5, 4.5))\n",
        "    plt.ylabel(\"Weight\", fontsize = 12)\n",
        "    plt.xlabel(\"Feature\", fontsize = 12)\n",
        "    \n",
        "    plt.legend(loc = 'upper center')\n",
        "    plt.tight_layout()\n",
        "    plt.show()  "
      ],
      "metadata": {
        "id": "E7hjZLv4Y9pZ"
      },
      "execution_count": null,
      "outputs": []
    },
    {
      "cell_type": "code",
      "source": [
        "# plot the top five feature importance with feature weight \n",
        "\n",
        "feature_plot(importances, X_train, y_train)"
      ],
      "metadata": {
        "colab": {
          "base_uri": "https://localhost:8080/",
          "height": 369
        },
        "id": "jKkHOXwSY9r-",
        "outputId": "9991adb4-cc8f-4bc6-c0b4-4e0f3ca2995d"
      },
      "execution_count": null,
      "outputs": [
        {
          "output_type": "display_data",
          "data": {
            "text/plain": [
              "<Figure size 864x360 with 1 Axes>"
            ],
            "image/png": "[encoded data removed]"
          },
          "metadata": {
            "needs_background": "light"
          }
        }
      ]
    },
    {
      "cell_type": "code",
      "source": [
        ""
      ],
      "metadata": {
        "id": "wRZnqYoTY9uE"
      },
      "execution_count": null,
      "outputs": []
    },
    {
      "cell_type": "code",
      "source": [
        ""
      ],
      "metadata": {
        "id": "hfxARR_oY9wa"
      },
      "execution_count": null,
      "outputs": []
    },
    {
      "cell_type": "code",
      "source": [
        ""
      ],
      "metadata": {
        "id": "odYm1JLtY9zD"
      },
      "execution_count": null,
      "outputs": []
    },
    {
      "cell_type": "code",
      "source": [
        ""
      ],
      "metadata": {
        "id": "RW-U6CxzUmBe"
      },
      "execution_count": null,
      "outputs": []
    },
    {
      "cell_type": "code",
      "source": [
        ""
      ],
      "metadata": {
        "id": "l_RBM9ymUmEE"
      },
      "execution_count": null,
      "outputs": []
    },
    {
      "cell_type": "code",
      "source": [
        ""
      ],
      "metadata": {
        "id": "9YiKnNvFUTOQ"
      },
      "execution_count": null,
      "outputs": []
    },
    {
      "cell_type": "code",
      "source": [
        ""
      ],
      "metadata": {
        "id": "izRqyIIjUTQj"
      },
      "execution_count": null,
      "outputs": []
    },
    {
      "cell_type": "markdown",
      "source": [
        "RANDOM FOREST REGRESSOR"
      ],
      "metadata": {
        "id": "kebjxIhLUTrW"
      }
    },
    {
      "cell_type": "code",
      "source": [
        "y = listings['price']\n",
        "\n",
        "X = listings.drop(['price'], axis = 1 )"
      ],
      "metadata": {
        "id": "EJJN24hfJnDB"
      },
      "execution_count": null,
      "outputs": []
    },
    {
      "cell_type": "code",
      "source": [
        "# split data to train and test data set \n",
        "from sklearn.model_selection import train_test_split\n",
        "\n",
        "X_train, X_test,  y_train, y_test = train_test_split(X, y)"
      ],
      "metadata": {
        "id": "e80VimDTJycu"
      },
      "execution_count": null,
      "outputs": []
    },
    {
      "cell_type": "code",
      "source": [
        "# Look at the price data distribution \n",
        "import seaborn as sns\n",
        "sns.distplot(listings['price'])"
      ],
      "metadata": {
        "colab": {
          "base_uri": "https://localhost:8080/",
          "height": 353
        },
        "id": "HqB-4qmhJyfd",
        "outputId": "1f36ce69-0bc1-46d6-d304-e991b3af0498"
      },
      "execution_count": null,
      "outputs": [
        {
          "output_type": "stream",
          "name": "stderr",
          "text": [
            "/usr/local/lib/python3.7/dist-packages/seaborn/distributions.py:2619: FutureWarning: `distplot` is a deprecated function and will be removed in a future version. Please adapt your code to use either `displot` (a figure-level function with similar flexibility) or `histplot` (an axes-level function for histograms).\n",
            "  warnings.warn(msg, FutureWarning)\n"
          ]
        },
        {
          "output_type": "execute_result",
          "data": {
            "text/plain": [
              "<matplotlib.axes._subplots.AxesSubplot at 0x7f4de489f190>"
            ]
          },
          "metadata": {},
          "execution_count": 1295
        },
        {
          "output_type": "display_data",
          "data": {
            "text/plain": [
              "<Figure size 432x288 with 1 Axes>"
            ],
            "image/png": "[encoded data removed]"
          },
          "metadata": {
            "needs_background": "light"
          }
        }
      ]
    },
    {
      "cell_type": "code",
      "source": [
        "from sklearn import set_config \n",
        "set_config(print_changed_only=False) \n",
        " \n",
        "rfr = RandomForestRegressor()\n",
        "print(rfr)\n",
        " \n",
        "RandomForestRegressor(bootstrap=True, ccp_alpha=0.0, criterion='mse',\n",
        "                      max_depth=None, max_features='auto', max_leaf_nodes=None,\n",
        "                      max_samples=None,\n",
        "                      min_samples_leaf=1,\n",
        "                      min_samples_split=2, min_weight_fraction_leaf=0.0,\n",
        "                      n_estimators=100, n_jobs=None, oob_score=False,\n",
        "                      random_state=None, verbose=0, warm_start=False) "
      ],
      "metadata": {
        "colab": {
          "base_uri": "https://localhost:8080/"
        },
        "id": "zUbzvIHCMRAU",
        "outputId": "1bbbaeed-7f55-4f60-f861-26dc9295cdd9"
      },
      "execution_count": null,
      "outputs": [
        {
          "output_type": "stream",
          "name": "stdout",
          "text": [
            "RandomForestRegressor(bootstrap=True, ccp_alpha=0.0, criterion='squared_error',\n",
            "                      max_depth=None, max_features='auto', max_leaf_nodes=None,\n",
            "                      max_samples=None, min_impurity_decrease=0.0,\n",
            "                      min_samples_leaf=1, min_samples_split=2,\n",
            "                      min_weight_fraction_leaf=0.0, n_estimators=100,\n",
            "                      n_jobs=None, oob_score=False, random_state=None,\n",
            "                      verbose=0, warm_start=False)\n"
          ]
        },
        {
          "output_type": "execute_result",
          "data": {
            "text/plain": [
              "RandomForestRegressor(bootstrap=True, ccp_alpha=0.0, criterion='mse',\n",
              "                      max_depth=None, max_features='auto', max_leaf_nodes=None,\n",
              "                      max_samples=None, min_impurity_decrease=0.0,\n",
              "                      min_samples_leaf=1, min_samples_split=2,\n",
              "                      min_weight_fraction_leaf=0.0, n_estimators=100,\n",
              "                      n_jobs=None, oob_score=False, random_state=None,\n",
              "                      verbose=0, warm_start=False)"
            ]
          },
          "metadata": {},
          "execution_count": 1296
        }
      ]
    },
    {
      "cell_type": "code",
      "source": [
        "\n",
        "rfr.fit(X_train, y_train)\n",
        "\n",
        "score = rfr.score(X_train, y_train)\n",
        "print(\"R-squared:\", score) "
      ],
      "metadata": {
        "colab": {
          "base_uri": "https://localhost:8080/"
        },
        "id": "O6EJ3qxAMid0",
        "outputId": "6dad1131-0878-4208-fe8d-d56c2d0b120c"
      },
      "execution_count": null,
      "outputs": [
        {
          "output_type": "stream",
          "name": "stdout",
          "text": [
            "R-squared: 0.9132907638864811\n"
          ]
        }
      ]
    },
    {
      "cell_type": "code",
      "source": [
        "ypred = rfr.predict(X_test)\n",
        "\n",
        "mse = mean_squared_error(y_test, ypred)\n",
        "print(\"MSE: \", mse)\n",
        "print(\"RMSE: \", mse*(1/2.0)) "
      ],
      "metadata": {
        "colab": {
          "base_uri": "https://localhost:8080/"
        },
        "id": "m-0wSK-AJymj",
        "outputId": "7eaf58bc-b171-46d1-f9ac-14b59c383e1a"
      },
      "execution_count": null,
      "outputs": [
        {
          "output_type": "stream",
          "name": "stdout",
          "text": [
            "MSE:  60441.512271169246\n",
            "RMSE:  30220.756135584623\n"
          ]
        }
      ]
    },
    {
      "cell_type": "code",
      "source": [
        "x_ax = range(len(y_test))\n",
        "plt.plot(x_ax, y_test, linewidth=1, label=\"original\")\n",
        "plt.plot(x_ax, ypred, linewidth=1.1, label=\"predicted\")\n",
        "plt.title(\"y-test and y-predicted data\")\n",
        "plt.xlabel('X-axis')\n",
        "plt.ylabel('Y-axis')\n",
        "plt.legend(loc='best',fancybox=True, shadow=True)\n",
        "plt.grid(True)\n",
        "plt.show() "
      ],
      "metadata": {
        "colab": {
          "base_uri": "https://localhost:8080/",
          "height": 295
        },
        "id": "FHokOgTCSggg",
        "outputId": "5551b118-33cc-44fd-b167-f5a23afcf362"
      },
      "execution_count": null,
      "outputs": [
        {
          "output_type": "display_data",
          "data": {
            "text/plain": [
              "<Figure size 432x288 with 1 Axes>"
            ],
            "image/png": "[encoded data removed]"
          },
          "metadata": {
            "needs_background": "light"
          }
        }
      ]
    },
    {
      "cell_type": "code",
      "source": [
        ""
      ],
      "metadata": {
        "id": "j9vDV6eOSgkd"
      },
      "execution_count": null,
      "outputs": []
    },
    {
      "cell_type": "code",
      "source": [
        ""
      ],
      "metadata": {
        "id": "jeoykbeCSgnv"
      },
      "execution_count": null,
      "outputs": []
    }
  ]
}